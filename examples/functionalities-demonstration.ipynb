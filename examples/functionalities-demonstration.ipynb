{
 "cells": [
  {
   "cell_type": "code",
   "execution_count": null,
   "id": "3af0ff4c-bb75-4372-93f3-231d3b3aedda",
   "metadata": {},
   "outputs": [],
   "source": [
    "from ramanchada import Spectrum\n",
    "from ramanchada import GaussPeak, SpectralComponentCollection"
   ]
  },
  {
   "cell_type": "markdown",
   "id": "56d3a175-d7bc-4e69-aa7c-51def3a886f7",
   "metadata": {},
   "source": [
    "# Generate spectrum"
   ]
  },
  {
   "cell_type": "code",
   "execution_count": null,
   "id": "1606b750-5a08-4e98-b6aa-b15bc1fe9fee",
   "metadata": {},
   "outputs": [],
   "source": [
    "g = GaussPeak(a=1500, x0=150, w=10)\n",
    "ax = g.plot(draw='line', label='line')\n",
    "g.plot(ax=ax, draw='cross', label='cross')\n",
    "ax.legend(loc='upper left')\n",
    "g.plot(ax=ax.twinx(), draw='delta', label='delta')\n",
    "None"
   ]
  },
  {
   "cell_type": "code",
   "execution_count": null,
   "id": "f6c6bc14-537c-4e84-9e57-1626beb17020",
   "metadata": {},
   "outputs": [],
   "source": [
    "spe_coll = SpectralComponentCollection([\n",
    "    GaussPeak(a=1500, x0=250, w=20),\n",
    "    GaussPeak(a=700, x0=300, w=20),\n",
    "    GaussPeak(a=700, x0=500, w=30),\n",
    "])"
   ]
  },
  {
   "cell_type": "code",
   "execution_count": null,
   "id": "a7b78985-7fef-4caf-a954-61c858570d59",
   "metadata": {},
   "outputs": [],
   "source": [
    "ax = spe_coll.plot(draw='deltas', label='deltas')\n",
    "ax1 = ax.twinx()\n",
    "spe_coll.plot(ax=ax1, draw='combined line', label='combined line', lw=3)\n",
    "spe_coll.plot(ax=ax1, draw='individual lines', label='individual lines')\n",
    "spe_coll.plot(ax=ax1, draw='crosses', label='crosses')\n",
    "ax.legend(loc='upper left')\n",
    "None"
   ]
  },
  {
   "cell_type": "code",
   "execution_count": null,
   "id": "74ad9487-7136-417c-845b-d9d7c2011480",
   "metadata": {},
   "outputs": [],
   "source": [
    "spe = Spectrum.generate(spe_coll, x=800)"
   ]
  },
  {
   "cell_type": "markdown",
   "id": "cc0bba7a-5e8a-47f1-a176-acbe440f2a5b",
   "metadata": {},
   "source": [
    "# Generate spectrum from SpectralComponentCollection`"
   ]
  },
  {
   "cell_type": "markdown",
   "id": "e73fc984-58c1-44c8-ba8e-3b01bda07c6e",
   "metadata": {},
   "source": [
    "# Add Poisson noise to the spectrum"
   ]
  },
  {
   "cell_type": "code",
   "execution_count": null,
   "id": "3fb72332-b564-443c-ab2d-942461b724d5",
   "metadata": {},
   "outputs": [],
   "source": [
    "spe1 = spe.add_poisson_noise()\n",
    "ax = spe1.plot(label='noised spectrum')\n",
    "spe.plot(ax=ax, label='original spectrum')\n",
    "None"
   ]
  },
  {
   "cell_type": "markdown",
   "id": "d79a89a5-3bc3-4c6f-b4ab-6e47125cd4e0",
   "metadata": {},
   "source": [
    "# Linear scale"
   ]
  },
  {
   "cell_type": "code",
   "execution_count": null,
   "id": "64c17833-f098-4316-a5ee-0405b0385587",
   "metadata": {},
   "outputs": [],
   "source": [
    "spe2 = spe1.scale_xaxis_linear(factor=3, preserve_integral=True)\n",
    "ax = spe1.plot(label='original spectrum')\n",
    "spe2.plot(ax=ax, label='scaled spectrum')\n",
    "None"
   ]
  },
  {
   "cell_type": "markdown",
   "id": "666ab9e5-ede9-41ee-a043-6e030e1cfd92",
   "metadata": {},
   "source": [
    "# Simple moving average filter"
   ]
  },
  {
   "cell_type": "code",
   "execution_count": null,
   "id": "3ca049cd-3812-4071-ad9f-aecff06bb3d0",
   "metadata": {},
   "outputs": [],
   "source": [
    "spe3 = spe2.moving_average()\n",
    "ax = spe2.plot(label='original spectrum')\n",
    "spe3.plot(ax=ax, label='SMA filtered spectrum')\n",
    "None"
   ]
  },
  {
   "cell_type": "markdown",
   "id": "12b19663-6ead-4653-baf7-37856385e8b2",
   "metadata": {},
   "source": [
    "# HDF5 example"
   ]
  },
  {
   "cell_type": "code",
   "execution_count": null,
   "id": "0a2671f3-e0d6-4a65-9e29-6de1b220fd64",
   "metadata": {},
   "outputs": [],
   "source": [
    "spe_coll = SpectralComponentCollection([\n",
    "    GaussPeak(a=50000, x0=250, w=6),\n",
    "    GaussPeak(a=7000, x0=300, w=6),\n",
    "])\n",
    "spe = Spectrum.generate(spe_coll, spe_kwargs=dict(cachedir='/tmp', h5file='ramanchada-test.h5'))"
   ]
  },
  {
   "cell_type": "code",
   "execution_count": null,
   "id": "2e88c6a5-824b-4e92-9966-ce0e444abc24",
   "metadata": {},
   "outputs": [],
   "source": [
    "spe1 = spe.moving_average(window_size=5).moving_average(window_size=5)"
   ]
  },
  {
   "cell_type": "code",
   "execution_count": null,
   "id": "2471e80b-21e1-47fd-a831-51d729d37339",
   "metadata": {},
   "outputs": [],
   "source": [
    "spe1 = spe.moving_average(window=10)"
   ]
  }
 ],
 "metadata": {
  "kernelspec": {
   "display_name": "ramanchada2",
   "language": "python",
   "name": "ramanchada2"
  },
  "language_info": {
   "codemirror_mode": {
    "name": "ipython",
    "version": 3
   },
   "file_extension": ".py",
   "mimetype": "text/x-python",
   "name": "python",
   "nbconvert_exporter": "python",
   "pygments_lexer": "ipython3",
   "version": "3.10.2"
  }
 },
 "nbformat": 4,
 "nbformat_minor": 5
}
