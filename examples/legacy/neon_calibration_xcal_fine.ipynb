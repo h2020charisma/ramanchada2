{
 "cells": [
  {
   "cell_type": "code",
   "execution_count": 1,
   "id": "51ac466b-8823-4bfb-8c3d-d2d28ea9ce4d",
   "metadata": {},
   "outputs": [],
   "source": [
    "import ramanchada2 as rc2\n",
    "import ramanchada2.misc.constants  as rc2const\n",
    "import ramanchada2.misc.utils as rc2utils\n",
    "import matplotlib.pyplot as plt\n",
    "import numpy as np"
   ]
  },
  {
   "cell_type": "code",
   "execution_count": 2,
   "id": "f21a6319-405e-4211-b97a-95b098b7d13d",
   "metadata": {},
   "outputs": [],
   "source": [
    "def diff(spe, ref_pos):\n",
    "    ss = spe.subtract_moving_minimum(40)\n",
    "    kw = dict(sharpening=None, hht_chain=[100])\n",
    "    cand = ss.find_peak_multipeak(**kw)\n",
    "    kw = dict(profile='Gaussian')\n",
    "    fit_res = spe.fit_peak_multimodel(candidates=cand, **kw)\n",
    "\n",
    "    spe_pos, spe_pos_err = fit_res.centers_err.T\n",
    "\n",
    "    spe_pos_match_idx, ref_pos_match_idx = rc2utils.find_closest_pairs_idx(spe_pos, ref_pos)\n",
    "    spe_pos_match = spe_pos[spe_pos_match_idx]\n",
    "    ref_pos_match = ref_pos[ref_pos_match_idx]\n",
    "    return ref_pos_match, (spe_pos_match-ref_pos_match), spe_pos_err[spe_pos_match_idx]"
   ]
  },
  {
   "cell_type": "code",
   "execution_count": 3,
   "id": "b1bbe125-d2bb-47d5-9aeb-f37812b24a8e",
   "metadata": {},
   "outputs": [
    {
     "ename": "FileNotFoundError",
     "evalue": "[Errno 2] No such file or directory: 'data/2 - Full Data sets/FMNT-M_Ho785/NeonSNQ043_iR785_OP03.txt'",
     "output_type": "error",
     "traceback": [
      "\u001b[1;31m---------------------------------------------------------------------------\u001b[0m",
      "\u001b[1;31mFileNotFoundError\u001b[0m                         Traceback (most recent call last)",
      "File \u001b[1;32md:\\nina\\src\\charisma\\ramanchada2\\src\\ramanchada2\\spectrum\\creators\\from_local_file.py:81\u001b[0m, in \u001b[0;36mfrom_local_file\u001b[1;34m(in_file_name, filetype, backend)\u001b[0m\n\u001b[0;32m     80\u001b[0m \u001b[38;5;28;01mtry\u001b[39;00m:\n\u001b[1;32m---> 81\u001b[0m     spe \u001b[38;5;241m=\u001b[39m \u001b[43mload_native\u001b[49m\u001b[43m(\u001b[49m\u001b[43m)\u001b[49m\n\u001b[0;32m     82\u001b[0m \u001b[38;5;28;01mexcept\u001b[39;00m \u001b[38;5;167;01mException\u001b[39;00m:\n",
      "File \u001b[1;32md:\\nina\\src\\charisma\\ramanchada2\\src\\ramanchada2\\spectrum\\creators\\from_local_file.py:48\u001b[0m, in \u001b[0;36mfrom_local_file.<locals>.load_native\u001b[1;34m()\u001b[0m\n\u001b[0;32m     47\u001b[0m \u001b[38;5;28;01mif\u001b[39;00m ft \u001b[38;5;129;01min\u001b[39;00m {\u001b[38;5;124m'\u001b[39m\u001b[38;5;124mtxt\u001b[39m\u001b[38;5;124m'\u001b[39m, \u001b[38;5;124m'\u001b[39m\u001b[38;5;124mtxtr\u001b[39m\u001b[38;5;124m'\u001b[39m, \u001b[38;5;124m'\u001b[39m\u001b[38;5;124mprn\u001b[39m\u001b[38;5;124m'\u001b[39m, \u001b[38;5;124m'\u001b[39m\u001b[38;5;124mrruf\u001b[39m\u001b[38;5;124m'\u001b[39m}:\n\u001b[1;32m---> 48\u001b[0m     \u001b[38;5;28;01mwith\u001b[39;00m \u001b[38;5;28;43mopen\u001b[39;49m\u001b[43m(\u001b[49m\u001b[43min_file_name\u001b[49m\u001b[43m)\u001b[49m \u001b[38;5;28;01mas\u001b[39;00m fp:\n\u001b[0;32m     49\u001b[0m         x, y, meta \u001b[38;5;241m=\u001b[39m read_txt(fp)\n",
      "\u001b[1;31mFileNotFoundError\u001b[0m: [Errno 2] No such file or directory: 'data/2 - Full Data sets/FMNT-M_Ho785/NeonSNQ043_iR785_OP03.txt'",
      "\nDuring handling of the above exception, another exception occurred:\n",
      "\u001b[1;31mFileNotFoundError\u001b[0m                         Traceback (most recent call last)",
      "Cell \u001b[1;32mIn[3], line 1\u001b[0m\n\u001b[1;32m----> 1\u001b[0m spe_nocalib \u001b[38;5;241m=\u001b[39m \u001b[43mrc2\u001b[49m\u001b[38;5;241;43m.\u001b[39;49m\u001b[43mspectrum\u001b[49m\u001b[38;5;241;43m.\u001b[39;49m\u001b[43mfrom_local_file\u001b[49m\u001b[43m(\u001b[49m\u001b[38;5;124;43m'\u001b[39;49m\u001b[38;5;124;43mdata/2 - Full Data sets/FMNT-M_Ho785/NeonSNQ043_iR785_OP03.txt\u001b[39;49m\u001b[38;5;124;43m'\u001b[39;49m\u001b[43m,\u001b[49m\u001b[43m \u001b[49m\u001b[43mfiletype\u001b[49m\u001b[38;5;241;43m=\u001b[39;49m\u001b[38;5;124;43m'\u001b[39;49m\u001b[38;5;124;43mtxt\u001b[39;49m\u001b[38;5;124;43m'\u001b[39;49m\u001b[43m)\u001b[49m\n",
      "File \u001b[1;32md:\\nina\\src\\charisma\\ramanchada2\\src\\ramanchada2\\misc\\spectrum_deco\\spectrum_constructor.py:15\u001b[0m, in \u001b[0;36madd_spectrum_constructor.__call__.<locals>.retf\u001b[1;34m(cachefile_, *args, **kwargs)\u001b[0m\n\u001b[0;32m     13\u001b[0m \u001b[38;5;129m@wraps\u001b[39m(fun)\n\u001b[0;32m     14\u001b[0m \u001b[38;5;28;01mdef\u001b[39;00m \u001b[38;5;21mretf\u001b[39m(\u001b[38;5;241m*\u001b[39margs, cachefile_\u001b[38;5;241m=\u001b[39m\u001b[38;5;28;01mNone\u001b[39;00m, \u001b[38;5;241m*\u001b[39m\u001b[38;5;241m*\u001b[39mkwargs) \u001b[38;5;241m-\u001b[39m\u001b[38;5;241m>\u001b[39m Spectrum:\n\u001b[1;32m---> 15\u001b[0m     spe \u001b[38;5;241m=\u001b[39m \u001b[43mfun\u001b[49m\u001b[43m(\u001b[49m\u001b[38;5;241;43m*\u001b[39;49m\u001b[43margs\u001b[49m\u001b[43m,\u001b[49m\u001b[43m \u001b[49m\u001b[38;5;241;43m*\u001b[39;49m\u001b[38;5;241;43m*\u001b[39;49m\u001b[43mkwargs\u001b[49m\u001b[43m)\u001b[49m\n\u001b[0;32m     16\u001b[0m     \u001b[38;5;28;01mif\u001b[39;00m \u001b[38;5;28mself\u001b[39m\u001b[38;5;241m.\u001b[39mset_proc:\n\u001b[0;32m     17\u001b[0m         spe\u001b[38;5;241m.\u001b[39m_applied_processings\u001b[38;5;241m.\u001b[39massign(proc\u001b[38;5;241m=\u001b[39mfun\u001b[38;5;241m.\u001b[39m\u001b[38;5;18m__name__\u001b[39m, args\u001b[38;5;241m=\u001b[39margs, kwargs\u001b[38;5;241m=\u001b[39mkwargs)\n",
      "File \u001b[1;32md:\\nina\\CONDA\\envs\\ramanchada2\\Lib\\site-packages\\pydantic\\validate_call_decorator.py:60\u001b[0m, in \u001b[0;36mvalidate_call.<locals>.validate.<locals>.wrapper_function\u001b[1;34m(*args, **kwargs)\u001b[0m\n\u001b[0;32m     58\u001b[0m \u001b[38;5;129m@functools\u001b[39m\u001b[38;5;241m.\u001b[39mwraps(function)\n\u001b[0;32m     59\u001b[0m \u001b[38;5;28;01mdef\u001b[39;00m \u001b[38;5;21mwrapper_function\u001b[39m(\u001b[38;5;241m*\u001b[39margs, \u001b[38;5;241m*\u001b[39m\u001b[38;5;241m*\u001b[39mkwargs):\n\u001b[1;32m---> 60\u001b[0m     \u001b[38;5;28;01mreturn\u001b[39;00m \u001b[43mvalidate_call_wrapper\u001b[49m\u001b[43m(\u001b[49m\u001b[38;5;241;43m*\u001b[39;49m\u001b[43margs\u001b[49m\u001b[43m,\u001b[49m\u001b[43m \u001b[49m\u001b[38;5;241;43m*\u001b[39;49m\u001b[38;5;241;43m*\u001b[39;49m\u001b[43mkwargs\u001b[49m\u001b[43m)\u001b[49m\n",
      "File \u001b[1;32md:\\nina\\CONDA\\envs\\ramanchada2\\Lib\\site-packages\\pydantic\\_internal\\_validate_call.py:96\u001b[0m, in \u001b[0;36mValidateCallWrapper.__call__\u001b[1;34m(self, *args, **kwargs)\u001b[0m\n\u001b[0;32m     95\u001b[0m \u001b[38;5;28;01mdef\u001b[39;00m \u001b[38;5;21m__call__\u001b[39m(\u001b[38;5;28mself\u001b[39m, \u001b[38;5;241m*\u001b[39margs: Any, \u001b[38;5;241m*\u001b[39m\u001b[38;5;241m*\u001b[39mkwargs: Any) \u001b[38;5;241m-\u001b[39m\u001b[38;5;241m>\u001b[39m Any:\n\u001b[1;32m---> 96\u001b[0m     res \u001b[38;5;241m=\u001b[39m \u001b[38;5;28mself\u001b[39m\u001b[38;5;241m.\u001b[39m__pydantic_validator__\u001b[38;5;241m.\u001b[39mvalidate_python(pydantic_core\u001b[38;5;241m.\u001b[39mArgsKwargs(args, kwargs))\n\u001b[0;32m     97\u001b[0m     \u001b[38;5;28;01mif\u001b[39;00m \u001b[38;5;28mself\u001b[39m\u001b[38;5;241m.\u001b[39m__return_pydantic_validator__:\n\u001b[0;32m     98\u001b[0m         \u001b[38;5;28;01mreturn\u001b[39;00m \u001b[38;5;28mself\u001b[39m\u001b[38;5;241m.\u001b[39m__return_pydantic_validator__(res)\n",
      "File \u001b[1;32md:\\nina\\src\\charisma\\ramanchada2\\src\\ramanchada2\\spectrum\\creators\\from_local_file.py:83\u001b[0m, in \u001b[0;36mfrom_local_file\u001b[1;34m(in_file_name, filetype, backend)\u001b[0m\n\u001b[0;32m     81\u001b[0m         spe \u001b[38;5;241m=\u001b[39m load_native()\n\u001b[0;32m     82\u001b[0m     \u001b[38;5;28;01mexcept\u001b[39;00m \u001b[38;5;167;01mException\u001b[39;00m:\n\u001b[1;32m---> 83\u001b[0m         spe \u001b[38;5;241m=\u001b[39m \u001b[43mload_rc1\u001b[49m\u001b[43m(\u001b[49m\u001b[43m)\u001b[49m\n\u001b[0;32m     84\u001b[0m spe\u001b[38;5;241m.\u001b[39m_sort_x()\n\u001b[0;32m     85\u001b[0m \u001b[38;5;28;01mreturn\u001b[39;00m spe\n",
      "File \u001b[1;32md:\\nina\\src\\charisma\\ramanchada2\\src\\ramanchada2\\spectrum\\creators\\from_local_file.py:71\u001b[0m, in \u001b[0;36mfrom_local_file.<locals>.load_rc1\u001b[1;34m()\u001b[0m\n\u001b[0;32m     70\u001b[0m \u001b[38;5;28;01mdef\u001b[39;00m \u001b[38;5;21mload_rc1\u001b[39m():\n\u001b[1;32m---> 71\u001b[0m     x, y, meta \u001b[38;5;241m=\u001b[39m \u001b[43mrc1_parser\u001b[49m\u001b[38;5;241;43m.\u001b[39;49m\u001b[43mparse\u001b[49m\u001b[43m(\u001b[49m\u001b[43min_file_name\u001b[49m\u001b[43m,\u001b[49m\u001b[43m \u001b[49m\u001b[43mfiletype\u001b[49m\u001b[43m)\u001b[49m\n\u001b[0;32m     72\u001b[0m     spe \u001b[38;5;241m=\u001b[39m Spectrum(x\u001b[38;5;241m=\u001b[39mx, y\u001b[38;5;241m=\u001b[39my, metadata\u001b[38;5;241m=\u001b[39mSpeMetadataModel\u001b[38;5;241m.\u001b[39mmodel_validate(meta))\n\u001b[0;32m     73\u001b[0m     \u001b[38;5;28;01mreturn\u001b[39;00m spe\n",
      "File \u001b[1;32md:\\nina\\src\\charisma\\ramanchada2\\src\\ramanchada2\\io\\experimental\\rc1_parser\\io.py:36\u001b[0m, in \u001b[0;36mparse\u001b[1;34m(source_path, file_type)\u001b[0m\n\u001b[0;32m     31\u001b[0m \u001b[38;5;28;01melse\u001b[39;00m:\n\u001b[0;32m     32\u001b[0m     \u001b[38;5;28;01mraise\u001b[39;00m UnsupportedFileTypeError(\n\u001b[0;32m     33\u001b[0m         \u001b[38;5;124mf\u001b[39m\u001b[38;5;124m'\u001b[39m\u001b[38;5;124mfile type \u001b[39m\u001b[38;5;124m\"\u001b[39m\u001b[38;5;132;01m{\u001b[39;00mfile_type\u001b[38;5;132;01m}\u001b[39;00m\u001b[38;5;124m\"\u001b[39m\u001b[38;5;124m is not supported\u001b[39m\u001b[38;5;124m'\u001b[39m\n\u001b[0;32m     34\u001b[0m     )\n\u001b[1;32m---> 36\u001b[0m x_data, y_data, metadata \u001b[38;5;241m=\u001b[39m \u001b[43mreader\u001b[49m\u001b[43m(\u001b[49m\u001b[43msource_path\u001b[49m\u001b[43m)\u001b[49m\n\u001b[0;32m     37\u001b[0m \u001b[38;5;28;01mif\u001b[39;00m metadata \u001b[38;5;129;01mis\u001b[39;00m \u001b[38;5;129;01mnot\u001b[39;00m \u001b[38;5;28;01mNone\u001b[39;00m:\n\u001b[0;32m     38\u001b[0m     \u001b[38;5;66;03m# Get rid of bytes that are found in some of the formats\u001b[39;00m\n\u001b[0;32m     39\u001b[0m     metadata \u001b[38;5;241m=\u001b[39m cleanMeta(metadata)\n",
      "File \u001b[1;32md:\\nina\\src\\charisma\\ramanchada2\\src\\ramanchada2\\io\\experimental\\rc1_parser\\txt_format_readers.py:48\u001b[0m, in \u001b[0;36mreadTXT\u001b[1;34m(file, x_col, y_col, verbose)\u001b[0m\n\u001b[0;32m     46\u001b[0m \u001b[38;5;28;01mdef\u001b[39;00m \u001b[38;5;21mreadTXT\u001b[39m(file, x_col\u001b[38;5;241m=\u001b[39m\u001b[38;5;241m0\u001b[39m, y_col\u001b[38;5;241m=\u001b[39m\u001b[38;5;241m0\u001b[39m, verbose\u001b[38;5;241m=\u001b[39m\u001b[38;5;28;01mTrue\u001b[39;00m):\n\u001b[0;32m     47\u001b[0m     \u001b[38;5;66;03m# open .txt and read as lines\u001b[39;00m\n\u001b[1;32m---> 48\u001b[0m     \u001b[38;5;28;01mwith\u001b[39;00m \u001b[38;5;28;43mopen\u001b[39;49m\u001b[43m(\u001b[49m\u001b[43mfile\u001b[49m\u001b[43m)\u001b[49m \u001b[38;5;28;01mas\u001b[39;00m d:\n\u001b[0;32m     49\u001b[0m         lines \u001b[38;5;241m=\u001b[39m d\u001b[38;5;241m.\u001b[39mreadlines()\n\u001b[0;32m     50\u001b[0m     \u001b[38;5;66;03m# Find data lines and convert to np.array\u001b[39;00m\n",
      "\u001b[1;31mFileNotFoundError\u001b[0m: [Errno 2] No such file or directory: 'data/2 - Full Data sets/FMNT-M_Ho785/NeonSNQ043_iR785_OP03.txt'"
     ]
    }
   ],
   "source": [
    "spe_nocalib = rc2.spectrum.from_local_file('data/2 - Full Data sets/FMNT-M_Ho785/NeonSNQ043_iR785_OP03.txt', filetype='txt')"
   ]
  },
  {
   "cell_type": "code",
   "execution_count": null,
   "id": "39107e52-d74b-4eac-ad16-fabee3b00175",
   "metadata": {},
   "outputs": [],
   "source": [
    "neon_pos_wl_dict = rc2const.neon_wl_spe[785].fit_peak_positions(center_err_threshold=.1)\n",
    "neon_pos_wl = np.array(list(neon_pos_wl_dict.keys()))\n",
    "\n",
    "neon_pos_rs_dict = rc2utils.abs_nm_to_shift_cm_1_dict(neon_pos_wl_dict, 785)\n",
    "neon_pos_rs = np.array(list(neon_pos_rs_dict.keys()))"
   ]
  },
  {
   "cell_type": "code",
   "execution_count": null,
   "id": "211cf6a0-1f7f-4f6b-a0f9-06bb6e084e79",
   "metadata": {},
   "outputs": [],
   "source": [
    "spe_cal = [spe_nocalib.shift_cm_1_to_abs_nm_filter(785)]\n",
    "for _ in range(10):\n",
    "    spe_cal.append(spe_cal[-1].xcal_fine(ref=neon_pos_wl_dict , poly_order=3))"
   ]
  },
  {
   "cell_type": "code",
   "execution_count": null,
   "id": "44fb6c34-6259-46f0-8baa-89484eb5cbf2",
   "metadata": {},
   "outputs": [],
   "source": [
    "fig, ax = plt.subplots(figsize=(8, 5), nrows=1, sharex=True, tight_layout=True)\n",
    "\n",
    "ax.axhline(0)\n",
    "ax.set_title('FMNT-M_Ho785/NeonSNQ043_iR785_OP03')\n",
    "ax.set_xlabel('Raman shift [cm$^{-1}$]')\n",
    "ax.set_ylabel('Δ shift [cm$^{-1}$]')\n",
    "\n",
    "for spe_i, spe in enumerate(spe_cal):\n",
    "    ax.errorbar(*diff(spe.abs_nm_to_shift_cm_1_filter(785), neon_pos_rs), fmt='.:', label=spe_i)\n",
    "ax.legend()\n",
    "ax.grid()\n",
    "ax.set_ylim(-8, 15)\n"
   ]
  },
  {
   "cell_type": "code",
   "execution_count": null,
   "id": "3db9e44b-786b-449d-8cfb-496dfd4ed05b",
   "metadata": {},
   "outputs": [],
   "source": [
    "fig, ax = plt.subplots(figsize=(8, 5), nrows=1, sharex=True, tight_layout=True)\n",
    "\n",
    "ax.axhline(0)\n",
    "ax.set_title('FMNT-M_Ho785/NeonSNQ043_iR785_OP03')\n",
    "ax.set_xlabel('Raman shift [cm$^{-1}$]')\n",
    "rc2const.neon_rs_spe[785].plot(ax=ax.twinx(), fmt='r:')\n",
    "for spe_i, spe in enumerate(spe_cal):\n",
    "    spe.abs_nm_to_shift_cm_1_filter(785).plot(ax=ax, fmt=':', label=spe_i)\n",
    "\n",
    "ax.set_xlim(200, 2000)\n",
    "ax.legend()\n",
    "ax.grid()"
   ]
  }
 ],
 "metadata": {
  "kernelspec": {
   "display_name": "ramanchada2",
   "language": "python",
   "name": "python3"
  },
  "language_info": {
   "codemirror_mode": {
    "name": "ipython",
    "version": 3
   },
   "file_extension": ".py",
   "mimetype": "text/x-python",
   "name": "python",
   "nbconvert_exporter": "python",
   "pygments_lexer": "ipython3",
   "version": "3.11.10"
  }
 },
 "nbformat": 4,
 "nbformat_minor": 5
}
