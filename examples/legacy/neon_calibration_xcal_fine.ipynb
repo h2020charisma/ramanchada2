{
 "cells": [
  {
   "cell_type": "code",
   "execution_count": null,
   "id": "51ac466b-8823-4bfb-8c3d-d2d28ea9ce4d",
   "metadata": {},
   "outputs": [],
   "source": [
    "import ramanchada2 as rc2\n",
    "import ramanchada2.misc.constants  as rc2const\n",
    "import ramanchada2.misc.utils as rc2utils\n",
    "import matplotlib.pyplot as plt\n",
    "import numpy as np"
   ]
  },
  {
   "cell_type": "code",
   "execution_count": null,
   "id": "f21a6319-405e-4211-b97a-95b098b7d13d",
   "metadata": {},
   "outputs": [],
   "source": [
    "def diff(spe, ref_pos):\n",
    "    ss = spe.subtract_moving_minimum(40)\n",
    "    kw = dict(sharpening=None, hht_chain=[100])\n",
    "    cand = ss.find_peak_multipeak(**kw)\n",
    "    kw = dict(profile='Gaussian')\n",
    "    fit_res = spe.fit_peak_multimodel(candidates=cand, **kw)\n",
    "\n",
    "    spe_pos, spe_pos_err = fit_res.centers_err.T\n",
    "\n",
    "    spe_pos_match_idx, ref_pos_match_idx = rc2utils.find_closest_pairs_idx(spe_pos, ref_pos)\n",
    "    spe_pos_match = spe_pos[spe_pos_match_idx]\n",
    "    ref_pos_match = ref_pos[ref_pos_match_idx]\n",
    "    return ref_pos_match, (spe_pos_match-ref_pos_match), spe_pos_err[spe_pos_match_idx]"
   ]
  },
  {
   "cell_type": "code",
   "execution_count": null,
   "id": "b1bbe125-d2bb-47d5-9aeb-f37812b24a8e",
   "metadata": {},
   "outputs": [],
   "source": [
    "spe_nocalib = rc2.spectrum.from_local_file('data/2 - Full Data sets/FMNT-M_Ho785/NeonSNQ043_iR785_OP03.txt', filetype='txt')"
   ]
  },
  {
   "cell_type": "code",
   "execution_count": null,
   "id": "39107e52-d74b-4eac-ad16-fabee3b00175",
   "metadata": {},
   "outputs": [],
   "source": [
    "neon_pos_wl_dict = rc2const.neon_wl_spe[785].fit_peak_positions(center_err_threshold=.1)\n",
    "neon_pos_wl = np.array(list(neon_pos_wl_dict.keys()))\n",
    "\n",
    "neon_pos_rs_dict = rc2utils.abs_nm_to_shift_cm_1_dict(neon_pos_wl_dict, 785)\n",
    "neon_pos_rs = np.array(list(neon_pos_rs_dict.keys()))"
   ]
  },
  {
   "cell_type": "code",
   "execution_count": null,
   "id": "211cf6a0-1f7f-4f6b-a0f9-06bb6e084e79",
   "metadata": {},
   "outputs": [],
   "source": [
    "spe_cal = [spe_nocalib.shift_cm_1_to_abs_nm_filter(785)]\n",
    "for _ in range(10):\n",
    "    spe_cal.append(spe_cal[-1].xcal_fine(ref=neon_pos_wl_dict , poly_order=3))"
   ]
  },
  {
   "cell_type": "code",
   "execution_count": null,
   "id": "44fb6c34-6259-46f0-8baa-89484eb5cbf2",
   "metadata": {},
   "outputs": [],
   "source": [
    "fig, ax = plt.subplots(figsize=(8, 5), nrows=1, sharex=True, tight_layout=True)\n",
    "\n",
    "ax.axhline(0)\n",
    "ax.set_title('FMNT-M_Ho785/NeonSNQ043_iR785_OP03')\n",
    "ax.set_xlabel('Raman shift [cm$^{-1}$]')\n",
    "ax.set_ylabel('Δ shift [cm$^{-1}$]')\n",
    "\n",
    "for spe_i, spe in enumerate(spe_cal):\n",
    "    ax.errorbar(*diff(spe.abs_nm_to_shift_cm_1_filter(785), neon_pos_rs), fmt='.:', label=spe_i)\n",
    "ax.legend()\n",
    "ax.grid()\n",
    "ax.set_ylim(-8, 15)\n"
   ]
  },
  {
   "cell_type": "code",
   "execution_count": null,
   "id": "3db9e44b-786b-449d-8cfb-496dfd4ed05b",
   "metadata": {},
   "outputs": [],
   "source": [
    "fig, ax = plt.subplots(figsize=(8, 5), nrows=1, sharex=True, tight_layout=True)\n",
    "\n",
    "ax.axhline(0)\n",
    "ax.set_title('FMNT-M_Ho785/NeonSNQ043_iR785_OP03')\n",
    "ax.set_xlabel('Raman shift [cm$^{-1}$]')\n",
    "rc2const.neon_rs_spe[785].plot(ax=ax.twinx(), fmt='r:')\n",
    "for spe_i, spe in enumerate(spe_cal):\n",
    "    spe.abs_nm_to_shift_cm_1_filter(785).plot(ax=ax, fmt=':', label=spe_i)\n",
    "\n",
    "ax.set_xlim(200, 2000)\n",
    "ax.legend()\n",
    "ax.grid()"
   ]
  }
 ],
 "metadata": {
  "kernelspec": {
   "display_name": "ramanchada2",
   "language": "python",
   "name": "ramanchada2"
  },
  "language_info": {
   "codemirror_mode": {
    "name": "ipython",
    "version": 3
   },
   "file_extension": ".py",
   "mimetype": "text/x-python",
   "name": "python",
   "nbconvert_exporter": "python",
   "pygments_lexer": "ipython3",
   "version": "3.9.11"
  }
 },
 "nbformat": 4,
 "nbformat_minor": 5
}
