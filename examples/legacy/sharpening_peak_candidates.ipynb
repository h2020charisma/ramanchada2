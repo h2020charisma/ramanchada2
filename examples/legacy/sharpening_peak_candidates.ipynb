{
 "cells": [
  {
   "cell_type": "code",
   "execution_count": null,
   "id": "08dc83ca-f176-4390-8a70-505bbe1c01c9",
   "metadata": {},
   "outputs": [],
   "source": [
    "import ramanchada2 as rc2\n",
    "import matplotlib.pyplot as plt"
   ]
  },
  {
   "cell_type": "code",
   "execution_count": null,
   "id": "bc5af63c-0127-4010-b78f-281e24a79b07",
   "metadata": {},
   "outputs": [],
   "source": [
    "spe = rc2.spectrum.from_local_file('/data/RamanSpe/FNMT-Madrid/BWTek_532nm/PST/PST10_iR532_Probe_050_3000msx7.txt').normalize()"
   ]
  },
  {
   "cell_type": "code",
   "execution_count": null,
   "id": "1088d4fa-43c8-4e0c-b19f-9e628483b191",
   "metadata": {},
   "outputs": [],
   "source": [
    "fig, ax = plt.subplots(figsize=(30,10))\n",
    "sharp = spe.hht_sharpening_chain([50])\n",
    "sharp.plot(ax=ax)\n",
    "spe.plot(ax=ax, fmt=':')"
   ]
  },
  {
   "cell_type": "code",
   "execution_count": null,
   "id": "d029a9f7-0ba1-4ca1-90b7-9cc4b6ced5c8",
   "metadata": {},
   "outputs": [],
   "source": [
    "fig, ax = plt.subplots(figsize=(30,10))\n",
    "cand = spe.find_peak_multipeak(wlen=50, hht_chain=[80])\n",
    "cand.plot(ax=ax)\n",
    "spe.plot(ax=ax, fmt=':')\n"
   ]
  },
  {
   "cell_type": "code",
   "execution_count": null,
   "id": "d1ec0b9c-63bf-40dc-9816-de9f1a454ae7",
   "metadata": {},
   "outputs": [],
   "source": [
    "fitres = spe.fit_peak_multimodel(profile='Moffat', candidates=cand, no_fit=True)\n",
    "\n",
    "fig, ax = plt.subplots(figsize=(30,10))\n",
    "spe.plot(ax=ax, fmt=':')\n",
    "fitres.plot(ax=ax, peak_candidate_groups=cand, individual_peaks=True, label=None)\n",
    "fitres.plot(ax=ax, peak_candidate_groups=cand, individual_peaks=False, label=None)"
   ]
  },
  {
   "cell_type": "code",
   "execution_count": null,
   "id": "3242e92c-8b9b-414c-a606-b84fe143d1c0",
   "metadata": {},
   "outputs": [],
   "source": [
    "fitres = spe.fit_peak_multimodel(profile='Moffat', candidates=cand, no_fit=False)\n"
   ]
  },
  {
   "cell_type": "code",
   "execution_count": null,
   "id": "b286db90-8de4-4b03-8430-252ad054cf6e",
   "metadata": {},
   "outputs": [],
   "source": [
    "fig, ax = plt.subplots(figsize=(30,10))\n",
    "spe.plot(ax=ax, fmt=':')\n",
    "fitres.plot(ax=ax, peak_candidate_groups=cand, individual_peaks=True, label=None)\n"
   ]
  },
  {
   "cell_type": "code",
   "execution_count": null,
   "id": "a0c23c0f-39b3-46cc-84b2-6224df507735",
   "metadata": {},
   "outputs": [],
   "source": [
    "fitres.to_csv('/tmp/peak_data.csv')"
   ]
  },
  {
   "cell_type": "code",
   "execution_count": null,
   "id": "3e84666f-1b25-42ea-b4d7-5f9e763d8d33",
   "metadata": {},
   "outputs": [],
   "source": []
  }
 ],
 "metadata": {
  "kernelspec": {
   "display_name": "ramanchada2",
   "language": "python",
   "name": "python3"
  },
  "language_info": {
   "codemirror_mode": {
    "name": "ipython",
    "version": 3
   },
   "file_extension": ".py",
   "mimetype": "text/x-python",
   "name": "python",
   "nbconvert_exporter": "python",
   "pygments_lexer": "ipython3",
   "version": "3.11.10"
  }
 },
 "nbformat": 4,
 "nbformat_minor": 5
}
