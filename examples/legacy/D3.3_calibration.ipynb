{
 "cells": [
  {
   "cell_type": "code",
   "execution_count": null,
   "id": "873d5265-f8a3-444e-80b7-7d674ed3d716",
   "metadata": {},
   "outputs": [],
   "source": [
    "import ramanchada2 as rc2\n",
    "import ramanchada2.misc.constants  as rc2const\n",
    "import ramanchada2.misc.utils as rc2utils\n",
    "import matplotlib.pyplot as plt\n",
    "import numpy as np"
   ]
  },
  {
   "cell_type": "code",
   "execution_count": null,
   "id": "48ab4e56-5811-4310-b17c-5bb780dba13e",
   "metadata": {},
   "outputs": [],
   "source": [
    "laser_wl = 785\n",
    "spe_neon = rc2.spectrum.from_test_spe(sample=['Neon'], provider=['FNMT'], OP=['03'], laser_wl=['785'])\n",
    "spe_pst = rc2.spectrum.from_test_spe(sample=['PST'], provider=['FNMT'], OP=['03'], laser_wl=['785'])\n",
    "spe_sil = rc2.spectrum.from_test_spe(sample=['S0B'], provider=['FNMT'], OP=['03'], laser_wl=['785'])\n",
    "spe_nCal = rc2.spectrum.from_test_spe(sample=['nCAL'], provider=['FNMT'], OP=['03'], laser_wl=['785'])"
   ]
  },
  {
   "cell_type": "code",
   "execution_count": null,
   "id": "63422365-b050-49a3-9445-731da7c9b1a1",
   "metadata": {},
   "outputs": [],
   "source": [
    "def iter_calib(in_spe, ref, prominence, wlen, n_iters, poly_order=3):\n",
    "    tmp = in_spe\n",
    "    for iter in range(n_iters):\n",
    "        tmp = tmp.xcal_fine(ref=ref,\n",
    "                            poly_order=poly_order,\n",
    "                            should_fit=False,\n",
    "                            find_peaks_kw=dict(prominence=tmp.y_noise*prominence,\n",
    "                                               wlen=wlen,\n",
    "                                               width=1,\n",
    "                                              )\n",
    "                           )\n",
    "    return tmp"
   ]
  },
  {
   "cell_type": "code",
   "execution_count": null,
   "id": "77079c03-3b43-4189-bdfe-b395519b5aca",
   "metadata": {},
   "outputs": [],
   "source": [
    "spe_neon_wl = spe_neon.shift_cm_1_to_abs_nm_filter(laser_wave_length_nm=laser_wl)\n",
    "\n",
    "spe_neon_wl_calib = iter_calib(spe_neon_wl, ref=rc2const.neon_wl_785_nist_dict, wlen=100, prominence=.5, n_iters=20)\n",
    "fig, ax = plt.subplots()\n",
    "spe_neon_wl.plot(ax=ax, fmt=':', label='initial')\n",
    "spe_neon_wl_calib.plot(ax=ax, fmt=':', label='calibrated')\n",
    "ax.twinx().stem(rc2const.neon_wl_785_nist_dict.keys(), rc2const.neon_wl_785_nist_dict.values(), label='reference')\n",
    "\n",
    "spe_neon_calib = spe_neon_wl_calib.abs_nm_to_shift_cm_1_filter(laser_wave_length_nm=laser_wl)"
   ]
  },
  {
   "cell_type": "code",
   "execution_count": null,
   "id": "dc53033d-482c-42bc-975c-a9a63a969e19",
   "metadata": {},
   "outputs": [],
   "source": [
    "spe_sil_necal = spe_sil.__copy__()\n",
    "spe_sil_necal.x = spe_neon_calib.x\n",
    "spe_sil_calib = iter_calib(spe_sil_necal, ref=[520.45], wlen=100, prominence=10, n_iters=1, poly_order=0)\n",
    "fig, ax = plt.subplots()\n",
    "spe_sil.plot(ax=ax, label='Sil initial')\n",
    "spe_sil_necal.plot(ax=ax, label='Sil neon calibrated')\n",
    "spe_sil_calib.plot(ax=ax, label='Sil calibrated')"
   ]
  },
  {
   "cell_type": "code",
   "execution_count": null,
   "id": "f9effec0-642d-47a1-9865-348807840bab",
   "metadata": {},
   "outputs": [],
   "source": [
    "spe_pst_silcal = spe_pst.__copy__()\n",
    "spe_pst_silcal.x = spe_sil_calib.x\n",
    "\n",
    "spe_pst_calib = iter_calib(spe_pst_silcal, ref=rc2const.PST_RS_dict, prominence=1, wlen=100, n_iters=20)\n",
    "fig, ax = plt.subplots()\n",
    "spe_pst_silcal.plot(ax=ax, label='ne+sil calibrated')\n",
    "spe_pst_calib.plot(ax=ax, label='self calibrated')"
   ]
  },
  {
   "cell_type": "code",
   "execution_count": null,
   "id": "03d7ef86-a8dd-4792-9e18-1767dc24e330",
   "metadata": {},
   "outputs": [],
   "source": [
    "spe_nCal_movmin = spe_nCal - spe_nCal.moving_minimum(120)\n",
    "spe_nCal_calib = spe_nCal_movmin.__copy__()\n",
    "spe_nCal_calib.x = spe_pst_calib.x"
   ]
  },
  {
   "cell_type": "code",
   "execution_count": null,
   "id": "25edc037-6719-4554-adf3-3a9a9cd48e89",
   "metadata": {},
   "outputs": [],
   "source": [
    "cand = spe_nCal_calib.find_peak_multipeak(prominence=spe_pst_calib.y_noise*10, wlen=300, width=1)\n",
    "\n",
    "fig, ax = plt.subplots()\n",
    "spe_nCal_calib.plot(ax=ax, fmt=':')\n",
    "cand.plot(ax=ax)\n",
    "ax.set_xlim(300, 1000)"
   ]
  },
  {
   "cell_type": "code",
   "execution_count": null,
   "id": "2bdbd630-4b16-4a99-8c40-f1cdbb169a09",
   "metadata": {},
   "outputs": [],
   "source": [
    "init_guess = spe_nCal_calib.fit_peak_multimodel(profile='Moffat', candidates=cand, no_fit=True)\n",
    "fig, ax = plt.subplots()\n",
    "spe_nCal_calib.plot(ax=ax, fmt=':')\n",
    "init_guess.plot(ax=ax)\n",
    "ax.set_xlim(300, 1000)"
   ]
  },
  {
   "cell_type": "code",
   "execution_count": null,
   "id": "9837bde6-d863-41a6-bc93-858d54639372",
   "metadata": {},
   "outputs": [],
   "source": [
    "fit_res = spe_nCal_calib.fit_peak_multimodel(profile='Moffat', candidates=cand)\n",
    "fig, ax = plt.subplots()\n",
    "spe_nCal_calib.plot(ax=ax, fmt=':')\n",
    "fit_res.plot(ax=ax)\n",
    "ax.set_xlim(300, 1000)"
   ]
  }
 ],
 "metadata": {
  "kernelspec": {
   "display_name": "ramanchada2",
   "language": "python",
   "name": "ramanchada2"
  },
  "language_info": {
   "codemirror_mode": {
    "name": "ipython",
    "version": 3
   },
   "file_extension": ".py",
   "mimetype": "text/x-python",
   "name": "python",
   "nbconvert_exporter": "python",
   "pygments_lexer": "ipython3",
   "version": "3.9.11"
  }
 },
 "nbformat": 4,
 "nbformat_minor": 5
}
