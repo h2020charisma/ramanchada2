{
 "cells": [
  {
   "cell_type": "code",
   "execution_count": null,
   "id": "3af0ff4c-bb75-4372-93f3-231d3b3aedda",
   "metadata": {},
   "outputs": [],
   "source": [
    "from ramanchada2 import spectrum\n",
    "from ramanchada2.spectral_components import GaussPeak, SpectralComponentCollection"
   ]
  },
  {
   "cell_type": "markdown",
   "id": "56d3a175-d7bc-4e69-aa7c-51def3a886f7",
   "metadata": {},
   "source": [
    "# Generate spectrum"
   ]
  },
  {
   "cell_type": "code",
   "execution_count": null,
   "id": "1606b750-5a08-4e98-b6aa-b15bc1fe9fee",
   "metadata": {},
   "outputs": [],
   "source": [
    "g = GaussPeak(a=1500, x0=150, w=10)\n",
    "ax = g.plot(draw='line', label='line')\n",
    "g.plot(ax=ax, draw='cross', label='cross')\n",
    "ax.legend(loc='upper left')\n",
    "g.plot(ax=ax.twinx(), draw='delta', label='delta')\n",
    "None"
   ]
  },
  {
   "cell_type": "code",
   "execution_count": null,
   "id": "f6c6bc14-537c-4e84-9e57-1626beb17020",
   "metadata": {},
   "outputs": [],
   "source": [
    "spe_coll = SpectralComponentCollection([\n",
    "    GaussPeak(a=1500, x0=250, w=20),\n",
    "    GaussPeak(a=700, x0=300, w=20),\n",
    "    GaussPeak(a=700, x0=500, w=30),\n",
    "])"
   ]
  },
  {
   "cell_type": "code",
   "execution_count": null,
   "id": "a7b78985-7fef-4caf-a954-61c858570d59",
   "metadata": {},
   "outputs": [],
   "source": [
    "ax = spe_coll.plot(draw='deltas', label='deltas')\n",
    "ax1 = ax.twinx()\n",
    "spe_coll.plot(ax=ax1, draw='combined line', label='combined line', lw=3)\n",
    "spe_coll.plot(ax=ax1, draw='individual lines', label='individual lines')\n",
    "spe_coll.plot(ax=ax1, draw='crosses', label='crosses')\n",
    "ax.legend(loc='upper left')\n",
    "None"
   ]
  },
  {
   "cell_type": "code",
   "execution_count": null,
   "id": "74ad9487-7136-417c-845b-d9d7c2011480",
   "metadata": {},
   "outputs": [],
   "source": [
    "spe = spectrum.from_spectral_component_collection(spe_coll, x=800)"
   ]
  },
  {
   "cell_type": "markdown",
   "id": "cc0bba7a-5e8a-47f1-a176-acbe440f2a5b",
   "metadata": {},
   "source": [
    "# Generate spectrum from SpectralComponentCollection`"
   ]
  },
  {
   "cell_type": "markdown",
   "id": "e73fc984-58c1-44c8-ba8e-3b01bda07c6e",
   "metadata": {},
   "source": [
    "# Add Poisson noise to the spectrum"
   ]
  },
  {
   "cell_type": "code",
   "execution_count": null,
   "id": "3fb72332-b564-443c-ab2d-942461b724d5",
   "metadata": {},
   "outputs": [],
   "source": [
    "spe1 = spe.add_poisson_noise()\n",
    "ax = spe1.plot(label='noised spectrum')\n",
    "spe.plot(ax=ax, label='original spectrum')\n",
    "None"
   ]
  },
  {
   "cell_type": "markdown",
   "id": "d79a89a5-3bc3-4c6f-b4ab-6e47125cd4e0",
   "metadata": {},
   "source": [
    "# Linear scale"
   ]
  },
  {
   "cell_type": "code",
   "execution_count": null,
   "id": "64c17833-f098-4316-a5ee-0405b0385587",
   "metadata": {},
   "outputs": [],
   "source": [
    "spe2 = spe1.scale_xaxis_linear(factor=3, preserve_integral=True)\n",
    "ax = spe1.plot(label='original spectrum')\n",
    "spe2.plot(ax=ax, label='scaled spectrum')\n",
    "None"
   ]
  },
  {
   "cell_type": "markdown",
   "id": "666ab9e5-ede9-41ee-a043-6e030e1cfd92",
   "metadata": {},
   "source": [
    "# Simple moving average filter"
   ]
  },
  {
   "cell_type": "code",
   "execution_count": null,
   "id": "3ca049cd-3812-4071-ad9f-aecff06bb3d0",
   "metadata": {},
   "outputs": [],
   "source": [
    "spe3 = spe2.moving_average()\n",
    "ax = spe2.plot(label='original spectrum')\n",
    "spe3.plot(ax=ax, label='SMA filtered spectrum')\n",
    "None"
   ]
  },
  {
   "cell_type": "markdown",
   "id": "12b19663-6ead-4653-baf7-37856385e8b2",
   "metadata": {},
   "source": [
    "# HDF5 example"
   ]
  },
  {
   "cell_type": "code",
   "execution_count": null,
   "id": "0a2671f3-e0d6-4a65-9e29-6de1b220fd64",
   "metadata": {},
   "outputs": [],
   "source": [
    "cachefile = 'peak.cha'\n",
    "spe1 = spectrum.from_cache_or_calc(cachefile=cachefile, required_steps=[\n",
    "    {'proc': 'from_delta_lines', 'args': [], 'kwargs': {'nbins': 3000, 'deltas': {200: 100, 600: 50, 1000: 150, 1500: 70}}},\n",
    "    {'proc': 'convolve', 'args': ['gaussian'], 'kwargs': {'sigma': 5}},\n",
    "    {'proc': 'normalize', 'args': [], 'kwargs': {}},\n",
    "    {'proc': 'add_baseline', 'args': [], 'kwargs': {'n_freq': 20, 'pedestal': 0.2, 'amplitude': 0.15}},\n",
    "    {'proc': 'add_poisson_noise', 'args': [0.002], 'kwargs': {}},\n",
    "    {'proc': 'normalize', 'args': [], 'kwargs': {}},\n",
    "    {'proc': 'find_peak_multipeak_filter', 'args': [], 'kwargs': {'prominence': 0.1, 'width': 25}},\n",
    "    {'proc': 'fit_peaks_filter', 'args': [], 'kwargs': {'profile': 'Gaussian'}},\n",
    "])\n",
    "spe2 = spectrum.from_cache_or_calc(cachefile=cachefile, required_steps=[\n",
    "    {'proc': 'from_delta_lines', 'args': [], 'kwargs': {'nbins': 3000, 'deltas': {200: 100, 600: 50, 1000: 150, 1500: 70}}},\n",
    "    {'proc': 'convolve', 'args': ['gaussian'], 'kwargs': {'sigma': 20}},\n",
    "    {'proc': 'normalize', 'args': [], 'kwargs': {}},\n",
    "    {'proc': 'add_baseline', 'args': [], 'kwargs': {'n_freq': 20, 'pedestal': 0.2, 'amplitude': 0.15}},\n",
    "    {'proc': 'add_poisson_noise', 'args': [0.002], 'kwargs': {}},\n",
    "    {'proc': 'normalize', 'args': [], 'kwargs': {}},\n",
    "    {'proc': 'find_peak_multipeak_filter', 'args': [], 'kwargs': {'prominence': 0.1, 'width': 20}},\n",
    "    {'proc': 'fit_peaks_filter', 'args': [], 'kwargs': {'profile': 'Gaussian'}},\n",
    "])\n",
    "spe3 = spectrum.from_cache_or_calc(cachefile=cachefile, required_steps=[\n",
    "    {'proc': 'from_delta_lines', 'args': [], 'kwargs': {'nbins': 3000, 'deltas': {200: 100, 600: 50, 1000: 150, 1500: 70}}},\n",
    "    {'proc': 'convolve', 'args': ['gaussian'], 'kwargs': {'sigma': 20}},\n",
    "    {'proc': 'normalize', 'args': [], 'kwargs': {}},\n",
    "    {'proc': 'add_baseline', 'args': [], 'kwargs': {'n_freq': 20, 'pedestal': 0.2, 'amplitude': 0.15}},\n",
    "    {'proc': 'add_poisson_noise', 'args': [0.001], 'kwargs': {}},\n",
    "    {'proc': 'normalize', 'args': [], 'kwargs': {}},\n",
    "    {'proc': 'find_peak_multipeak_filter', 'args': [], 'kwargs': {'prominence': 0.1, 'width': 20}},\n",
    "    {'proc': 'fit_peaks_filter', 'args': [], 'kwargs': {'profile': 'Gaussian'}},\n",
    "])"
   ]
  },
  {
   "cell_type": "code",
   "execution_count": null,
   "id": "43f95725-f25f-4049-836a-40a9d92b1ee7",
   "metadata": {},
   "outputs": [],
   "source": [
    "ax = spe1.plot()\n",
    "spe2.plot(ax=ax)\n",
    "spe3.plot(ax=ax)"
   ]
  }
 ],
 "metadata": {
  "kernelspec": {
   "display_name": "ramanchada2",
   "language": "python",
   "name": "ramanchada2"
  },
  "language_info": {
   "codemirror_mode": {
    "name": "ipython",
    "version": 3
   },
   "file_extension": ".py",
   "mimetype": "text/x-python",
   "name": "python",
   "nbconvert_exporter": "python",
   "pygments_lexer": "ipython3",
   "version": "3.9.11"
  }
 },
 "nbformat": 4,
 "nbformat_minor": 5
}
