{
 "cells": [
  {
   "cell_type": "code",
   "execution_count": 1,
   "metadata": {},
   "outputs": [],
   "source": [
    "import ramanchada2 as rc2\n",
    "import matplotlib.pyplot as plt"
   ]
  },
  {
   "cell_type": "code",
   "execution_count": 2,
   "metadata": {},
   "outputs": [
    {
     "data": {
      "text/plain": [
       "SpeMetadataModel(root={'@axes': SpeMetadataFieldModel(root=['']), '@signal': SpeMetadataFieldModel(root=''), 'Original file': SpeMetadataFieldModel(root='PST10_iR785_OP03_8000msx2.txt')})"
      ]
     },
     "execution_count": 2,
     "metadata": {},
     "output_type": "execute_result"
    }
   ],
   "source": [
    "kwargs = {\"sample\":['PST'], \"provider\" : ['FNMT'], \"OP\":['03'], \"laser_wl\":['785']}\n",
    "spe = rc2.spectrum.from_test_spe(**kwargs)\n",
    "spe.meta"
   ]
  },
  {
   "cell_type": "code",
   "execution_count": 3,
   "metadata": {},
   "outputs": [
    {
     "ename": "ModuleNotFoundError",
     "evalue": "No module named 'pynanomapper'",
     "output_type": "error",
     "traceback": [
      "\u001b[1;31m---------------------------------------------------------------------------\u001b[0m",
      "\u001b[1;31mModuleNotFoundError\u001b[0m                       Traceback (most recent call last)",
      "Cell \u001b[1;32mIn[3], line 1\u001b[0m\n\u001b[1;32m----> 1\u001b[0m \u001b[38;5;28;01mimport\u001b[39;00m \u001b[38;5;21;01mpynanomapper\u001b[39;00m\u001b[38;5;21;01m.\u001b[39;00m\u001b[38;5;21;01mdatamodel\u001b[39;00m\u001b[38;5;21;01m.\u001b[39;00m\u001b[38;5;21;01mambit\u001b[39;00m \u001b[38;5;28;01mas\u001b[39;00m \u001b[38;5;21;01mmx\u001b[39;00m\n\u001b[0;32m      2\u001b[0m \u001b[38;5;28;01mimport\u001b[39;00m \u001b[38;5;21;01mnumpy\u001b[39;00m \u001b[38;5;28;01mas\u001b[39;00m \u001b[38;5;21;01mnp\u001b[39;00m\n\u001b[0;32m      3\u001b[0m \u001b[38;5;28;01mfrom\u001b[39;00m \u001b[38;5;21;01mtyping\u001b[39;00m \u001b[38;5;28;01mimport\u001b[39;00m Dict, Optional, Union, List\n",
      "\u001b[1;31mModuleNotFoundError\u001b[0m: No module named 'pynanomapper'"
     ]
    }
   ],
   "source": [
    "import pynanomapper.datamodel.ambit as mx\n",
    "import numpy as np\n",
    "from typing import Dict, Optional, Union, List\n",
    "from pynanomapper.datamodel.nexus_utils import to_nexus\n",
    "import json \n",
    "import nexusformat.nexus.tree as nx\n",
    "import pprint\n",
    "import uuid\n",
    "pp = pprint.PrettyPrinter(indent=4)\n",
    "\n",
    "\n",
    "data_dict: Dict[str, mx.ValueArray] = {\n",
    "    'x': mx.ValueArray(values = spe.x, unit=\"cm-1\")\n",
    "}\n",
    "ea = mx.EffectArray(endpoint=\"Raman spectrum\",  \n",
    "                                signal = mx.ValueArray(values = spe.y),\n",
    "                                axes = data_dict)\n",
    "#ea.to_json()\n",
    "effect_list: List[Union[mx.EffectRecord,mx.EffectArray]] = []\n",
    "effect_list.append(ea)\n",
    "papp = mx.ProtocolApplication(protocol=mx.Protocol(topcategory=\"P-CHEM\",category=mx.EndpointCategory(code=\"ANALYTICAL_METHODS_SECTION\")),\n",
    "                           effects=effect_list)\n",
    "papp.citation = mx.Citation(owner=\"FNMT\",title=\"Round Robin 1\",year=2022)\n",
    "papp.parameters = {\"E.method\" : \"Raman spectrometry\" , \"wavelength\" : 785}\n",
    "\n",
    "papp.uuid = str(uuid.uuid4())\n",
    "company=mx.Company(name = \"FNMT\")\n",
    "substance = mx.Sample(uuid = \"PST\")\n",
    "papp.owner = mx.SampleLink(substance = substance)\n",
    "#papp.to_json()\n",
    "study = mx.Study(study=[papp])\n",
    "\n",
    "pp.pprint(papp.__dict__)\n",
    "#print(papp.to_json())\n",
    "#print(study.to_json())\n",
    "nxroot = nx.NXroot()\n",
    "study.to_nexus(nxroot)\n",
    "nxroot.save(\"spectrum.nxs\",mode=\"w\")\n"
   ]
  },
  {
   "cell_type": "code",
   "execution_count": null,
   "metadata": {},
   "outputs": [],
   "source": [
    "def spe2pap(spe:rc2.spectrum.Spectrum):\n",
    "    effect_list: List[EffectRecord] = []\n",
    "    effect_list.append(EffectRecord(endpoint=\"Endpoint 1\", unit=\"Unit 1\", loValue=5.0))\n",
    "    protocol = Protocol(topcategory=\"P-CHEM\",category=EndpointCategory(code=\"ANALYTICAL_METHODS_SECTION\"))\n",
    "    papp = ProtocolApplication(protocol=protocol,effects=effect_list)\n",
    "    return papp\n",
    "\n",
    "\n",
    "spe2pap(spe)"
   ]
  },
  {
   "cell_type": "code",
   "execution_count": null,
   "metadata": {},
   "outputs": [],
   "source": [
    "spe.plot()"
   ]
  },
  {
   "cell_type": "code",
   "execution_count": null,
   "metadata": {},
   "outputs": [],
   "source": [
    "spe.write_nexus(\"nexus_test.cha\",\"entry\")"
   ]
  },
  {
   "cell_type": "code",
   "execution_count": null,
   "metadata": {},
   "outputs": [],
   "source": [
    "from typing import List\n",
    "from pynanomapper.datamodel.ambit import EffectRecord, Protocol, EndpointCategory, ProtocolApplication\n",
    "\n",
    "effect_list: List[EffectRecord] = []\n",
    "\n",
    "effect_list.append(EffectRecord(endpoint=\"Endpoint 1\", unit=\"Unit 1\", loValue=5.0))\n",
    "effect_list.append(EffectRecord(endpoint=\"Endpoint 2\", unit=\"Unit 2\", loValue=10.0))\n",
    "\n",
    "papp = ProtocolApplication(protocol=Protocol(topcategory=\"P-CHEM\",category=EndpointCategory(code=\"XYZ\")),effects=effect_list)\n",
    "papp"
   ]
  },
  {
   "cell_type": "code",
   "execution_count": null,
   "metadata": {},
   "outputs": [],
   "source": [
    "papp = ProtocolApplication(effects=effect_list)"
   ]
  },
  {
   "cell_type": "code",
   "execution_count": null,
   "metadata": {},
   "outputs": [],
   "source": [
    "papp.protocol,papp.effects"
   ]
  },
  {
   "cell_type": "code",
   "execution_count": null,
   "metadata": {},
   "outputs": [],
   "source": [
    "from pynanomapper.datamodel.ambit import  SubstanceRecord,Sample,SampleLink\n",
    "SubstanceRecord(name=\"xky\")\n",
    "substance=Sample(uuid=\"xxx\")\n",
    "SampleLink(substance=substance)"
   ]
  }
 ],
 "metadata": {
  "kernelspec": {
   "display_name": "ramanchada2",
   "language": "python",
   "name": "python3"
  },
  "language_info": {
   "codemirror_mode": {
    "name": "ipython",
    "version": 3
   },
   "file_extension": ".py",
   "mimetype": "text/x-python",
   "name": "python",
   "nbconvert_exporter": "python",
   "pygments_lexer": "ipython3",
   "version": "3.11.10"
  },
  "orig_nbformat": 4
 },
 "nbformat": 4,
 "nbformat_minor": 2
}
