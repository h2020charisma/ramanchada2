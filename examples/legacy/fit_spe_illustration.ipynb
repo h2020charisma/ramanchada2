{
 "cells": [
  {
   "cell_type": "markdown",
   "id": "827e8c65-1bb7-4796-8ec5-292e745dc9fe",
   "metadata": {
    "tags": []
   },
   "source": [
    "#### imports"
   ]
  },
  {
   "cell_type": "code",
   "execution_count": null,
   "id": "4786355d-0a38-4455-be9e-88d44b27ee31",
   "metadata": {},
   "outputs": [],
   "source": [
    "from ramanchada2.theoretical_lines.model_from_lines import model_from_lines\n",
    "from ramanchada2.io.simulated.read_simulated_lines import read_simulated_lines\n",
    "from ramanchada2.io.simulated.crystal.discrete_lines_dat import lines_from_crystal_dat\n",
    "from ramanchada2 import spectrum\n",
    "\n",
    "import matplotlib.pyplot as plt\n",
    "import numpy as np\n",
    "import pandas as pd\n",
    "plt_fig_ax = lambda cols=1: plt.subplots(1, cols, figsize=(12, 5), tight_layout=True)"
   ]
  },
  {
   "cell_type": "code",
   "execution_count": null,
   "id": "f69d0997-504d-4a03-a5f7-7a6380e11829",
   "metadata": {},
   "outputs": [],
   "source": [
    "vasp_sim_fn = '/data/RamanSimulated/vasp/snCAL_vasp_raman_ALL.dat'\n",
    "exp_spe_fn = '/data/RamanSpe/ICV-CSIC/iRPlus/785 nm/nCAL/nCAL02_iRPlus785_Z050_100_2100ms.txt'"
   ]
  },
  {
   "cell_type": "markdown",
   "id": "b6a0b020-01af-47e9-9d04-2f11cc3e6f4f",
   "metadata": {
    "tags": []
   },
   "source": [
    "# Read nCAL experimental spectrum"
   ]
  },
  {
   "cell_type": "code",
   "execution_count": null,
   "id": "b4a0124e-1e49-458a-b41c-1fc69cfd578a",
   "metadata": {
    "tags": []
   },
   "outputs": [],
   "source": [
    "spe = spectrum.from_local_file(exp_spe_fn)\n",
    "spe = spe.normalize()\n",
    "fig, ax = plt_fig_ax()\n",
    "ax.plot(spe.x, spe.y, label='Experimental')\n",
    "ax.legend()"
   ]
  },
  {
   "cell_type": "markdown",
   "id": "9857a883-8f5a-4f9c-9bb0-01c74af72cfb",
   "metadata": {
    "tags": []
   },
   "source": [
    "# Build theoretical model from VASP simulation data"
   ]
  },
  {
   "cell_type": "markdown",
   "id": "7261fd14-59e6-4eaf-8e50-0a6fd63fe9b3",
   "metadata": {},
   "source": [
    "```\n",
    "# mode   freq(cm-1)    alpha       beta2      activity\n",
    "001     1408.09865   0.0000465   1.9848711  13.8940975\n",
    "002     1408.08970  -0.0000000   1.9845608  13.8919258\n",
    "003     1377.52649  -0.0000929   0.0000004   0.0000034\n",
    "~~~~~~~~~~~~~~~~~~~~~~~~~~~~~~~~~~~~~~~~~~~~~~~~~~~\n",
    "029        0.03564   0.0000000   0.0000000   0.0000003\n",
    "030        0.09163   0.0000000   0.0000000   0.0000000\n",
    "```"
   ]
  },
  {
   "cell_type": "code",
   "execution_count": null,
   "id": "a594e857-e5cf-46dc-bd05-991b3a999279",
   "metadata": {},
   "outputs": [],
   "source": [
    "mod, par = model_from_lines(*read_simulated_lines(open(vasp_sim_fn), 'vasp', ['I_tot']), 'voigt')\n",
    "par['x0'].set(min=-500, max=500, value=0)\n",
    "par['x1'].set(min=1/5, max=5, value=1)\n",
    "xsim = np.arange(3000)\n",
    "ysim = mod.eval(params=par, x=xsim)\n",
    "\n",
    "fig, ax = plt_fig_ax()\n",
    "ax.plot(spe.x, spe.y, label='Experimental')\n",
    "ax.plot(xsim, ysim/10, label='Simulation')\n",
    "ax.legend()"
   ]
  },
  {
   "cell_type": "markdown",
   "id": "92cfb03d-ae5c-4d38-9af6-ded581a626ed",
   "metadata": {
    "tags": []
   },
   "source": [
    "# Fit model to the data"
   ]
  },
  {
   "cell_type": "code",
   "execution_count": null,
   "id": "69246b30-8ae4-4b3e-b9f9-9df29a9a0586",
   "metadata": {},
   "outputs": [],
   "source": [
    "resfit_spe = mod.fit(spe.y, params=par, x=spe.x)\n",
    "fity = resfit_spe.eval(x=spe.x)\n",
    "\n",
    "fig, ax = plt_fig_ax()\n",
    "ax.plot(spe.x, spe.y, label='Experimental')\n",
    "ax.plot(spe.x, fity, '--', label='Model Fit')\n",
    "ax.legend()"
   ]
  },
  {
   "cell_type": "markdown",
   "id": "52c5b5e2-7206-47ed-a51a-bc5ccafdeedf",
   "metadata": {
    "tags": []
   },
   "source": [
    "# Try with poorly calibrated data"
   ]
  },
  {
   "cell_type": "markdown",
   "id": "ae62d591-7c04-4099-a0cb-24a389b8feef",
   "metadata": {
    "tags": []
   },
   "source": [
    "## Produce poorly calibrated data by scaling and offset"
   ]
  },
  {
   "cell_type": "code",
   "execution_count": null,
   "id": "d4bf0417-06a9-4e53-ba0f-c89dc43bc172",
   "metadata": {},
   "outputs": [],
   "source": [
    "scaled_spe = spe.scale_xaxis_fun(lambda x: (x+50)*.5)\n",
    "scaled_spe.plot(ax=ax, label='scaled')\n",
    "scaled_spe = scaled_spe.normalize()\n",
    "fig, ax = plt_fig_ax()\n",
    "spe.plot(ax=ax, label='original spectrum')\n",
    "scaled_spe.plot(ax=ax, label='scaled spectrum')"
   ]
  },
  {
   "cell_type": "code",
   "execution_count": null,
   "id": "c8d0ff3c-b167-4e24-b674-161b8ca7a526",
   "metadata": {},
   "outputs": [],
   "source": [
    "clear_spe = (scaled_spe-scaled_spe.moving_minimum(16))\n",
    "clear_spe = clear_spe.normalize()\n",
    "fig, ax = plt_fig_ax()\n",
    "scaled_spe.plot(ax=ax, label='scaled spectrum')\n",
    "clear_spe.plot(ax=ax, label='baseline subtracted')"
   ]
  },
  {
   "cell_type": "markdown",
   "id": "1b3d64e8-023c-4e56-ad0b-edde3f9e7420",
   "metadata": {
    "tags": []
   },
   "source": [
    "## Try direct fit"
   ]
  },
  {
   "cell_type": "code",
   "execution_count": null,
   "id": "a3fa5e8a-015b-4643-a2f5-14852d0d5827",
   "metadata": {},
   "outputs": [],
   "source": [
    "p0 = par.copy()\n",
    "resfit_clear_spe_direct = mod.fit(clear_spe.y, params=p0, x=clear_spe.x)\n",
    "fity = resfit_clear_spe_direct.eval(x=clear_spe.x)\n",
    "\n",
    "fig, ax = plt_fig_ax()\n",
    "ax.plot(clear_spe.x, clear_spe.y, label='scaled - baseline')\n",
    "ax.plot(clear_spe.x, fity, '--', label='Direct fit')\n",
    "ax.legend()"
   ]
  },
  {
   "cell_type": "markdown",
   "id": "2d930258-7773-4c45-92fd-4c53a53886db",
   "metadata": {
    "tags": []
   },
   "source": [
    "## Try broadening\n",
    "\n",
    "- fitting delta-line model to delta-line data leads to delta lines in merit phase space\n",
    "- broadening delta lines will lead to smoother merit phase space, so easier to calculate gradients\n",
    "- use results from brodened data as an initial guess for the real fit"
   ]
  },
  {
   "cell_type": "markdown",
   "id": "eda753e1-692f-44d6-8f94-5d6da7e153d9",
   "metadata": {
    "tags": []
   },
   "source": [
    "### Algorithm"
   ]
  },
  {
   "cell_type": "code",
   "execution_count": null,
   "id": "3b51cbec-be64-425d-bf69-203be8df18c5",
   "metadata": {},
   "outputs": [],
   "source": [
    "def convolve_fit(params, sigma=None):\n",
    "    ppar = params.copy()\n",
    "    if sigma:\n",
    "        convol_spe = clear_spe.convolve('gaussian', sigma=sigma).normalize()\n",
    "        ppar['sigma'].set(min=1, max=sigma*2, value=sigma)\n",
    "    else:\n",
    "        convol_spe = clear_spe.normalize()\n",
    "        ppar['sigma'].set(min=1, max=30, value=4)\n",
    "\n",
    "    fit_res = mod.fit(convol_spe.y, params=ppar, x=convol_spe.x)\n",
    "    xplot = np.arange(-200, 3000)\n",
    "    yinit = mod.eval(params=fit_res.init_params, x=xplot)\n",
    "    yfit = mod.eval(params=fit_res.params, x=xplot)\n",
    "    fig, ax = plt_fig_ax()\n",
    "    ax.plot(convol_spe.x, convol_spe.y, label='Data')\n",
    "    ax.plot(xplot, yinit, ':', lw=1, label='Initial guess')\n",
    "    ax.plot(xplot, yfit, label='Best fit')\n",
    "    ax.set_ylim(-0.1, 1.1)\n",
    "    ax.set_xlim(-100, 1600)\n",
    "    ax.legend()\n",
    "    return fit_res\n",
    "\n",
    "fig, ax = plt_fig_ax()\n",
    "clear_spe.normalize().plot(ax=ax, label='Original data')\n",
    "clear_spe.convolve('gaussian', sigma=40).normalize().plot(ax=ax, label='Convolved data')"
   ]
  },
  {
   "cell_type": "markdown",
   "id": "94446730-aea5-498b-8f61-d96c3bc66405",
   "metadata": {
    "tags": []
   },
   "source": [
    "### broaden experimental lines by convolution with gaussian($\\sigma=40$)"
   ]
  },
  {
   "cell_type": "code",
   "execution_count": null,
   "id": "7d484417-e6fe-44b6-8aa3-6ee2089ae88a",
   "metadata": {},
   "outputs": [],
   "source": [
    "p0 = par.copy()\n",
    "fitres_convolve40 = convolve_fit(p0, 40)"
   ]
  },
  {
   "cell_type": "markdown",
   "id": "ea8a729b-65c2-4943-aca1-e9139d82bb06",
   "metadata": {
    "tags": []
   },
   "source": [
    "### broaden experimental lines by convolution with gaussian($\\sigma=5$)"
   ]
  },
  {
   "cell_type": "code",
   "execution_count": null,
   "id": "a6f8c71b-c70b-4fc8-9fb4-b27bfe4aa645",
   "metadata": {},
   "outputs": [],
   "source": [
    "fitres_convolve5 = convolve_fit(fitres_convolve40.params, 5)"
   ]
  },
  {
   "cell_type": "markdown",
   "id": "aba1d9a4-bf9f-47d3-974a-304bac40cd61",
   "metadata": {
    "tags": []
   },
   "source": [
    "### fit model to data w/o broadening"
   ]
  },
  {
   "cell_type": "code",
   "execution_count": null,
   "id": "89233767-06ac-479b-8670-7ec66c4be2f3",
   "metadata": {},
   "outputs": [],
   "source": [
    "fitres_convolve0 = convolve_fit(fitres_convolve5.params)"
   ]
  },
  {
   "cell_type": "markdown",
   "id": "8f08b4b3-969b-4dee-adf5-ec7b45a78b63",
   "metadata": {
    "tags": []
   },
   "source": [
    "## Compare with the fit of unsclaed data"
   ]
  },
  {
   "cell_type": "code",
   "execution_count": null,
   "id": "f892affe-5361-43ed-97d2-d87ec060773f",
   "metadata": {},
   "outputs": [],
   "source": [
    "pltx = np.arange(2000)\n",
    "fity_orig = resfit_spe.eval(x=pltx)\n",
    "fity_conv = fitres_convolve0.eval(x=(pltx+50)*.5)\n",
    "\n",
    "fig, ax = plt_fig_ax()\n",
    "ax.plot(fity_orig, '--', label='fit original spectrum')\n",
    "ax.plot(fity_orig, '-.', label='fit scaled spectrum + same offset')\n",
    "ax.legend()"
   ]
  },
  {
   "cell_type": "markdown",
   "id": "020c563f-9541-4c15-809d-d1b15507735b",
   "metadata": {
    "tags": []
   },
   "source": [
    "# Moving minimum as a baseline filter"
   ]
  },
  {
   "cell_type": "code",
   "execution_count": null,
   "id": "80c76c83-6f73-45c8-9802-43a39a01703a",
   "metadata": {},
   "outputs": [],
   "source": [
    "from ramanchada2 import spectrum\n",
    "import matplotlib.pyplot as plt\n",
    "ss = spectrum.from_local_file('/data/RamanSpe/ICV-CSIC/iRPlus/785 nm/S0P/S0P02_iRPlus785_Z020_100_12000ms.txt')\n",
    "ss0 = ss - ss.moving_minimum(80)\n",
    "ss1 = ss - ss.moving_minimum(15)\n",
    "fig, ax = plt.subplots(1, 2, figsize=(15, 5), tight_layout=True)\n",
    "ss.plot(ax=ax[0], label='original')\n",
    "ss0.plot(ax=ax[0], label='movmin(80)')\n",
    "ss1.plot(ax=ax[0], label='movmin(15)')\n",
    "\n",
    "ss.plot(ax=ax[1], label='original')\n",
    "ss0.plot(ax=ax[1], label='movmin(80)')\n",
    "ss1.plot(ax=ax[1], label='movmin(15)')\n",
    "ax[1].set_ylim(0, 8000)"
   ]
  }
 ],
 "metadata": {
  "kernelspec": {
   "display_name": "ramanchada2",
   "language": "python",
   "name": "python3"
  },
  "language_info": {
   "codemirror_mode": {
    "name": "ipython",
    "version": 3
   },
   "file_extension": ".py",
   "mimetype": "text/x-python",
   "name": "python",
   "nbconvert_exporter": "python",
   "pygments_lexer": "ipython3",
   "version": "3.11.10"
  },
  "toc-autonumbering": false,
  "toc-showcode": false,
  "toc-showmarkdowntxt": false,
  "toc-showtags": false
 },
 "nbformat": 4,
 "nbformat_minor": 5
}
