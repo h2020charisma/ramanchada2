{
 "cells": [
  {
   "cell_type": "markdown",
   "id": "74a0c04b-4151-41a7-9852-83db0be26774",
   "metadata": {
    "tags": []
   },
   "source": [
    "# Theoretical spectra integration \n",
    "## Comparison of simulated and experimental spectra"
   ]
  },
  {
   "cell_type": "code",
   "execution_count": 1,
   "id": "5a07a056-112a-49a1-87d4-77a42605a1ac",
   "metadata": {
    "tags": []
   },
   "outputs": [],
   "source": [
    "from ramanchada2.theoretical_lines.model_from_lines import model_from_lines\n",
    "from ramanchada2.io.simulated.read_simulated_lines import read_simulated_lines\n",
    "from ramanchada2.io.simulated.crystal.discrete_lines_dat import lines_from_crystal_dat\n",
    "from ramanchada2 import spectrum\n",
    "\n",
    "from lmfit import Model, Parameters\n",
    "from lmfit.models import VoigtModel, GaussianModel\n",
    "import matplotlib.pyplot as plt\n",
    "import numpy as np\n",
    "import pandas as pd"
   ]
  },
  {
   "cell_type": "code",
   "execution_count": 2,
   "id": "274dd1c6-b3ee-4a6b-8e58-d739de50391f",
   "metadata": {
    "tags": []
   },
   "outputs": [],
   "source": [
    "vasp_sim_fn = '../../tests/data/simulations/vasp/snCAL_vasp_raman_ALL.dat'\n",
    "crystal_sim_raw_fn = '../../tests/data/simulations/crystal/calcite_CRYSTAL_PBE_raw_data.dat'\n",
    "crystal_sim_convolved_fn = '../../tests/data/simulations/crystal/calcite_CRYSTAL_PBE_convoluted.dat'\n",
    "\n",
    "exp_spe_fn = '../../tests/data/experimental/Renishaw/nCal_Qontor785_z005H12_100_1x3s.spc'"
   ]
  },
  {
   "cell_type": "markdown",
   "id": "89c898c1-7b3a-47cb-b849-2ee1906985cc",
   "metadata": {
    "tags": []
   },
   "source": [
    "## read _vasp_ simulation for CAL"
   ]
  },
  {
   "cell_type": "code",
   "execution_count": 3,
   "id": "d209404c-4fce-40cd-8a2f-686c2167b880",
   "metadata": {},
   "outputs": [],
   "source": [
    "def get_model_pars(filename, sim_type, *spe_type):\n",
    "    return model_from_lines(\n",
    "        *read_simulated_lines(\n",
    "            open(filename),\n",
    "            sim_type=sim_type,\n",
    "            use=spe_type\n",
    "        ),\n",
    "        #model='gaussian'\n",
    "    )\n",
    "\n",
    "\n",
    "def get_spectrum(filename, sim_type, *spe_type):\n",
    "    mod, pars = get_model_pars(filename, sim_type, *spe_type)\n",
    "    return spectrum.from_theoretical_lines(mod, pars, x=2000)\n",
    "\n"
   ]
  },
  {
   "cell_type": "code",
   "execution_count": 4,
   "id": "a9a9793a",
   "metadata": {},
   "outputs": [
    {
     "ename": "ValidationError",
     "evalue": "2 validation errors for from_theoretical_lines\n0\n  Input should be a valid list [type=list_type, input_value=(((((((((((((((((((((((((..., prefix='I_perp__30_')), input_type=CompositeModel]\n    For further information visit https://errors.pydantic.dev/2.9/v/list_type\n1\n  Input should be a valid list [type=list_type, input_value=Parameters([('pedestal', ...f:inf], expr='sigma'>)]), input_type=Parameters]\n    For further information visit https://errors.pydantic.dev/2.9/v/list_type",
     "output_type": "error",
     "traceback": [
      "\u001b[1;31m---------------------------------------------------------------------------\u001b[0m",
      "\u001b[1;31mValidationError\u001b[0m                           Traceback (most recent call last)",
      "Cell \u001b[1;32mIn[4], line 5\u001b[0m\n\u001b[0;32m      1\u001b[0m \u001b[38;5;66;03m#vasp_par['sigma'].set(value=3)\u001b[39;00m\n\u001b[0;32m      2\u001b[0m \u001b[38;5;66;03m#vasp_spe = spectrum.from_theoretical_lines(vasp_mod, vasp_par, x=2000)\u001b[39;00m\n\u001b[0;32m      3\u001b[0m \u001b[38;5;66;03m#vasp_spe.plot()\u001b[39;00m\n\u001b[0;32m      4\u001b[0m fig, ax \u001b[38;5;241m=\u001b[39m plt\u001b[38;5;241m.\u001b[39msubplots(\u001b[38;5;241m1\u001b[39m, figsize\u001b[38;5;241m=\u001b[39m(\u001b[38;5;241m12\u001b[39m, \u001b[38;5;241m5\u001b[39m))\n\u001b[1;32m----> 5\u001b[0m \u001b[43mget_spectrum\u001b[49m\u001b[43m(\u001b[49m\u001b[43mvasp_sim_fn\u001b[49m\u001b[43m,\u001b[49m\u001b[43m \u001b[49m\u001b[38;5;124;43m'\u001b[39;49m\u001b[38;5;124;43mvasp\u001b[39;49m\u001b[38;5;124;43m'\u001b[39;49m\u001b[43m,\u001b[49m\u001b[43m \u001b[49m\u001b[38;5;124;43m'\u001b[39;49m\u001b[38;5;124;43mI_perp\u001b[39;49m\u001b[38;5;124;43m'\u001b[39;49m\u001b[43m,\u001b[49m\u001b[43m \u001b[49m\u001b[38;5;124;43m'\u001b[39;49m\u001b[38;5;124;43mI_par\u001b[39;49m\u001b[38;5;124;43m'\u001b[39;49m\u001b[43m)\u001b[49m\u001b[38;5;241m.\u001b[39mplot(ax\u001b[38;5;241m=\u001b[39max, label\u001b[38;5;241m=\u001b[39m\u001b[38;5;124m'\u001b[39m\u001b[38;5;124mI_perp+I_par\u001b[39m\u001b[38;5;124m'\u001b[39m)\n\u001b[0;32m      6\u001b[0m get_spectrum(vasp_sim_fn, \u001b[38;5;124m'\u001b[39m\u001b[38;5;124mvasp\u001b[39m\u001b[38;5;124m'\u001b[39m, \u001b[38;5;124m'\u001b[39m\u001b[38;5;124mI_par\u001b[39m\u001b[38;5;124m'\u001b[39m)\u001b[38;5;241m.\u001b[39mplot(ax\u001b[38;5;241m=\u001b[39max, label\u001b[38;5;241m=\u001b[39m\u001b[38;5;124m'\u001b[39m\u001b[38;5;124mI_par\u001b[39m\u001b[38;5;124m'\u001b[39m)\n\u001b[0;32m      7\u001b[0m get_spectrum(vasp_sim_fn, \u001b[38;5;124m'\u001b[39m\u001b[38;5;124mvasp\u001b[39m\u001b[38;5;124m'\u001b[39m, \u001b[38;5;124m'\u001b[39m\u001b[38;5;124mI_perp\u001b[39m\u001b[38;5;124m'\u001b[39m)\u001b[38;5;241m.\u001b[39mplot(ax\u001b[38;5;241m=\u001b[39max, label\u001b[38;5;241m=\u001b[39m\u001b[38;5;124m'\u001b[39m\u001b[38;5;124mI_perp\u001b[39m\u001b[38;5;124m'\u001b[39m)\n",
      "Cell \u001b[1;32mIn[3], line 14\u001b[0m, in \u001b[0;36mget_spectrum\u001b[1;34m(filename, sim_type, *spe_type)\u001b[0m\n\u001b[0;32m     12\u001b[0m \u001b[38;5;28;01mdef\u001b[39;00m \u001b[38;5;21mget_spectrum\u001b[39m(filename, sim_type, \u001b[38;5;241m*\u001b[39mspe_type):\n\u001b[0;32m     13\u001b[0m     mod, pars \u001b[38;5;241m=\u001b[39m get_model_pars(filename, sim_type, \u001b[38;5;241m*\u001b[39mspe_type)\n\u001b[1;32m---> 14\u001b[0m     \u001b[38;5;28;01mreturn\u001b[39;00m \u001b[43mspectrum\u001b[49m\u001b[38;5;241;43m.\u001b[39;49m\u001b[43mfrom_theoretical_lines\u001b[49m\u001b[43m(\u001b[49m\u001b[43mmod\u001b[49m\u001b[43m,\u001b[49m\u001b[43m \u001b[49m\u001b[43mpars\u001b[49m\u001b[43m,\u001b[49m\u001b[43m \u001b[49m\u001b[43mx\u001b[49m\u001b[38;5;241;43m=\u001b[39;49m\u001b[38;5;241;43m2000\u001b[39;49m\u001b[43m)\u001b[49m\n",
      "File \u001b[1;32md:\\nina\\src\\charisma\\ramanchada2\\src\\ramanchada2\\misc\\spectrum_deco\\spectrum_constructor.py:15\u001b[0m, in \u001b[0;36madd_spectrum_constructor.__call__.<locals>.retf\u001b[1;34m(cachefile_, *args, **kwargs)\u001b[0m\n\u001b[0;32m     13\u001b[0m \u001b[38;5;129m@wraps\u001b[39m(fun)\n\u001b[0;32m     14\u001b[0m \u001b[38;5;28;01mdef\u001b[39;00m \u001b[38;5;21mretf\u001b[39m(\u001b[38;5;241m*\u001b[39margs, cachefile_\u001b[38;5;241m=\u001b[39m\u001b[38;5;28;01mNone\u001b[39;00m, \u001b[38;5;241m*\u001b[39m\u001b[38;5;241m*\u001b[39mkwargs) \u001b[38;5;241m-\u001b[39m\u001b[38;5;241m>\u001b[39m Spectrum:\n\u001b[1;32m---> 15\u001b[0m     spe \u001b[38;5;241m=\u001b[39m \u001b[43mfun\u001b[49m\u001b[43m(\u001b[49m\u001b[38;5;241;43m*\u001b[39;49m\u001b[43margs\u001b[49m\u001b[43m,\u001b[49m\u001b[43m \u001b[49m\u001b[38;5;241;43m*\u001b[39;49m\u001b[38;5;241;43m*\u001b[39;49m\u001b[43mkwargs\u001b[49m\u001b[43m)\u001b[49m\n\u001b[0;32m     16\u001b[0m     \u001b[38;5;28;01mif\u001b[39;00m \u001b[38;5;28mself\u001b[39m\u001b[38;5;241m.\u001b[39mset_proc:\n\u001b[0;32m     17\u001b[0m         spe\u001b[38;5;241m.\u001b[39m_applied_processings\u001b[38;5;241m.\u001b[39massign(proc\u001b[38;5;241m=\u001b[39mfun\u001b[38;5;241m.\u001b[39m\u001b[38;5;18m__name__\u001b[39m, args\u001b[38;5;241m=\u001b[39margs, kwargs\u001b[38;5;241m=\u001b[39mkwargs)\n",
      "File \u001b[1;32md:\\nina\\CONDA\\envs\\ramanchada2\\Lib\\site-packages\\pydantic\\validate_call_decorator.py:60\u001b[0m, in \u001b[0;36mvalidate_call.<locals>.validate.<locals>.wrapper_function\u001b[1;34m(*args, **kwargs)\u001b[0m\n\u001b[0;32m     58\u001b[0m \u001b[38;5;129m@functools\u001b[39m\u001b[38;5;241m.\u001b[39mwraps(function)\n\u001b[0;32m     59\u001b[0m \u001b[38;5;28;01mdef\u001b[39;00m \u001b[38;5;21mwrapper_function\u001b[39m(\u001b[38;5;241m*\u001b[39margs, \u001b[38;5;241m*\u001b[39m\u001b[38;5;241m*\u001b[39mkwargs):\n\u001b[1;32m---> 60\u001b[0m     \u001b[38;5;28;01mreturn\u001b[39;00m \u001b[43mvalidate_call_wrapper\u001b[49m\u001b[43m(\u001b[49m\u001b[38;5;241;43m*\u001b[39;49m\u001b[43margs\u001b[49m\u001b[43m,\u001b[49m\u001b[43m \u001b[49m\u001b[38;5;241;43m*\u001b[39;49m\u001b[38;5;241;43m*\u001b[39;49m\u001b[43mkwargs\u001b[49m\u001b[43m)\u001b[49m\n",
      "File \u001b[1;32md:\\nina\\CONDA\\envs\\ramanchada2\\Lib\\site-packages\\pydantic\\_internal\\_validate_call.py:96\u001b[0m, in \u001b[0;36mValidateCallWrapper.__call__\u001b[1;34m(self, *args, **kwargs)\u001b[0m\n\u001b[0;32m     95\u001b[0m \u001b[38;5;28;01mdef\u001b[39;00m \u001b[38;5;21m__call__\u001b[39m(\u001b[38;5;28mself\u001b[39m, \u001b[38;5;241m*\u001b[39margs: Any, \u001b[38;5;241m*\u001b[39m\u001b[38;5;241m*\u001b[39mkwargs: Any) \u001b[38;5;241m-\u001b[39m\u001b[38;5;241m>\u001b[39m Any:\n\u001b[1;32m---> 96\u001b[0m     res \u001b[38;5;241m=\u001b[39m \u001b[38;5;28;43mself\u001b[39;49m\u001b[38;5;241;43m.\u001b[39;49m\u001b[43m__pydantic_validator__\u001b[49m\u001b[38;5;241;43m.\u001b[39;49m\u001b[43mvalidate_python\u001b[49m\u001b[43m(\u001b[49m\u001b[43mpydantic_core\u001b[49m\u001b[38;5;241;43m.\u001b[39;49m\u001b[43mArgsKwargs\u001b[49m\u001b[43m(\u001b[49m\u001b[43margs\u001b[49m\u001b[43m,\u001b[49m\u001b[43m \u001b[49m\u001b[43mkwargs\u001b[49m\u001b[43m)\u001b[49m\u001b[43m)\u001b[49m\n\u001b[0;32m     97\u001b[0m     \u001b[38;5;28;01mif\u001b[39;00m \u001b[38;5;28mself\u001b[39m\u001b[38;5;241m.\u001b[39m__return_pydantic_validator__:\n\u001b[0;32m     98\u001b[0m         \u001b[38;5;28;01mreturn\u001b[39;00m \u001b[38;5;28mself\u001b[39m\u001b[38;5;241m.\u001b[39m__return_pydantic_validator__(res)\n",
      "\u001b[1;31mValidationError\u001b[0m: 2 validation errors for from_theoretical_lines\n0\n  Input should be a valid list [type=list_type, input_value=(((((((((((((((((((((((((..., prefix='I_perp__30_')), input_type=CompositeModel]\n    For further information visit https://errors.pydantic.dev/2.9/v/list_type\n1\n  Input should be a valid list [type=list_type, input_value=Parameters([('pedestal', ...f:inf], expr='sigma'>)]), input_type=Parameters]\n    For further information visit https://errors.pydantic.dev/2.9/v/list_type"
     ]
    },
    {
     "data": {
      "image/png": "[encoded data removed]",
      "text/plain": [
       "<Figure size 1200x500 with 1 Axes>"
      ]
     },
     "metadata": {},
     "output_type": "display_data"
    }
   ],
   "source": [
    "#vasp_par['sigma'].set(value=3)\n",
    "#vasp_spe = spectrum.from_theoretical_lines(vasp_mod, vasp_par, x=2000)\n",
    "#vasp_spe.plot()\n",
    "fig, ax = plt.subplots(1, figsize=(12, 5))\n",
    "get_spectrum(vasp_sim_fn, 'vasp', 'I_perp', 'I_par').plot(ax=ax, label='I_perp+I_par')\n",
    "get_spectrum(vasp_sim_fn, 'vasp', 'I_par').plot(ax=ax, label='I_par')\n",
    "get_spectrum(vasp_sim_fn, 'vasp', 'I_perp').plot(ax=ax, label='I_perp')\n",
    "get_spectrum(vasp_sim_fn, 'vasp', 'I_tot').plot(ax=ax, label='I_tot')"
   ]
  },
  {
   "cell_type": "code",
   "execution_count": null,
   "id": "83b8e5d5-d9af-4122-a9cf-4011eba97809",
   "metadata": {},
   "outputs": [],
   "source": [
    "read_simulated_lines(open(crystal_sim_raw_fn), 'crystal_dat')"
   ]
  },
  {
   "cell_type": "markdown",
   "id": "9a1e3554-073e-46ef-99bb-4fdea97f30e4",
   "metadata": {},
   "source": [
    "## Compare a typical experimental spectrum with _vasp_ and _crystal_ simulations"
   ]
  },
  {
   "cell_type": "code",
   "execution_count": null,
   "id": "fe6d9794-8491-41cf-918d-e75a4aaa52eb",
   "metadata": {},
   "outputs": [],
   "source": [
    "with open(crystal_sim_convolved_fn) as f:\n",
    "    crystal_convolved = lines_from_crystal_dat(f)\n",
    "    \n",
    "fig, ax = plt.subplots(4, figsize=(7, 4), sharex=True)\n",
    "ax[0].set_ylabel('Exp\\n[a.u.]')\n",
    "ax[1].set_ylabel('I_tot\\n[a.u.]')\n",
    "ax[2].set_ylabel('I_par\\n[a.u.]')\n",
    "ax[3].set_ylabel('I_perp\\n[a.u.]')\n",
    "ax[3].set_xlabel('Raman shift [$\\mathrm{cm}^{-1}$]')\n",
    "\n",
    "for i, k in enumerate([\n",
    "    'I_tot',\n",
    "    'I_par',\n",
    "    'I_perp',\n",
    "    #'I_xx',\n",
    "    #'I_xy',\n",
    "    #'I_xz',\n",
    "    #'I_yy',\n",
    "    #'I_yz',\n",
    "    #'I_zz'\n",
    "]):\n",
    "    get_spectrum(crystal_sim_raw_fn, 'crystal_dat', k).normalize().plot(ax=ax[i+1], fmt='r', label=f\"Crystal\")\n",
    "    ax[i+1].legend()\n",
    "\n",
    "exp_spe = spectrum.from_local_file(exp_spe_fn)\n",
    "exp_spe.normalize().plot(ax=ax[0], label=\"nCAL; 785 nm\")\n",
    "\n",
    "get_spectrum(vasp_sim_fn, 'vasp', 'I_tot').normalize().plot(ax=ax[1], fmt='g', label='Vasp')\n",
    "get_spectrum(vasp_sim_fn, 'vasp', 'I_par').normalize().plot(ax=ax[2], fmt='g', label='Vasp')\n",
    "get_spectrum(vasp_sim_fn, 'vasp', 'I_perp').normalize().plot(ax=ax[3], fmt='g', label='Vasp')\n",
    "\n",
    "#vasp_spe.plot(ax=ax[1], label='vasp')\n",
    "ax[0].set_xlim(-100, 1800)\n",
    "#ax.legend()\n",
    "for a in ax:\n",
    "    a.legend(loc='upper right')\n",
    "    a.grid(color='y', linestyle=':', linewidth=.5)\n",
    "None\n",
    "fig.suptitle('CAL - Experiment vs Simulation')\n",
    "fig.savefig('cal.pdf')\n"
   ]
  },
  {
   "cell_type": "markdown",
   "id": "b9c5998c-80d3-49f4-8f7d-3fcc4a9c1b2c",
   "metadata": {},
   "source": [
    "## read _crystal_ simulation"
   ]
  },
  {
   "cell_type": "code",
   "execution_count": null,
   "id": "77179473-42ad-478f-a2bc-fda4e8d1c527",
   "metadata": {},
   "outputs": [],
   "source": [
    "with open(crystal_sim_raw_fn) as f:\n",
    "    crystal_lines = lines_from_crystal_dat(f)"
   ]
  },
  {
   "cell_type": "markdown",
   "id": "8734c93c-503b-4912-b327-6f9c9f5ad845",
   "metadata": {},
   "source": [
    "## build a model and find `sigma`, `x0` and `x1` parameters based on _I_perp_ and _I_par_"
   ]
  },
  {
   "cell_type": "code",
   "execution_count": null,
   "id": "267ec522-278f-4c27-8b06-2787cd9d0673",
   "metadata": {},
   "outputs": [],
   "source": [
    "exp_spe_au = exp_spe.normalize()\n",
    "mod, pars = get_model_pars(crystal_sim_raw_fn, 'crystal_dat', 'I_par', 'I_perp')\n",
    "result_crystal = mod.fit(exp_spe_au.y, params=pars, x=exp_spe_au.x)\n",
    "\n",
    "mod, pars = get_model_pars(vasp_sim_fn, 'vasp', 'I_par', 'I_perp')\n",
    "result_vasp = mod.fit(exp_spe_au.y, params=pars, x=exp_spe_au.x)"
   ]
  },
  {
   "cell_type": "code",
   "execution_count": null,
   "id": "218bfa85-8c37-4b66-884d-b590a91ff3a5",
   "metadata": {},
   "outputs": [],
   "source": [
    "fig, ax = plt.subplots(1, figsize=(7, 4))\n",
    "exp_spe.plot(ax=ax, label=\"Experimental\")\n",
    "x = np.arange(-100, 2000)\n",
    "pars['I_perp_amplitude'].set(value=10)\n",
    "pars['I_par_amplitude'].set(value=10)\n",
    "r = mod.eval(params=pars, x=x)\n",
    "ax1 = ax.twinx()\n",
    "ax1.plot(x, r, 'r')\n",
    "ax.set_xlim(xmax=2000)\n",
    "\n",
    "result = mod.fit(exp_spe.y, params=pars, x=exp_spe.x)\n"
   ]
  },
  {
   "cell_type": "code",
   "execution_count": null,
   "id": "4eb70b2a-b80a-45d8-9eea-9ab936fd1d7b",
   "metadata": {},
   "outputs": [],
   "source": [
    "def ratio_string(result):\n",
    "    ss = result.params['I_par_amplitude']+result.params['I_perp_amplitude']\n",
    "    return f\"I_par {result.params['I_par_amplitude'] / ss*100:.0f} %\\nI_perp {result.params['I_perp_amplitude']/ss*100:.0f} %\"\n",
    "ratio_string(result_crystal), ratio_string(result_vasp)"
   ]
  },
  {
   "cell_type": "code",
   "execution_count": null,
   "id": "b76c71a4-0963-4d69-b619-baa5196349a5",
   "metadata": {},
   "outputs": [],
   "source": [
    "x = np.arange(-100, 2000)\n",
    "y_crystal = result_crystal.eval(x=x)\n",
    "y_vasp = result_vasp.eval(x=x)\n",
    "\n",
    "fig, ax = plt.subplots(1, figsize=(5, 3), tight_layout=True)\n",
    "ax.plot(exp_spe_au.x, exp_spe_au.y, label=\"Experimental\", lw=1)\n",
    "ax.plot(x, y_vasp, '-.', label=ratio_string(result_vasp), lw=1)\n",
    "ax.set_xlim(xmax=2000)\n",
    "ax.legend(loc='upper left')\n",
    "ax.set_xlabel('Raman shift [$\\mathrm{cm}^{-1}$]')\n",
    "ax.set_ylabel('Intensity [a.u.]')\n",
    "ax.set_title('nCAL, Best fit Vasp')\n",
    "\n",
    "fig.savefig('cal-fit-vasp.pdf')\n",
    "\n",
    "\n",
    "fig, ax = plt.subplots(1, figsize=(5, 3), tight_layout=True)\n",
    "ax.plot(exp_spe_au.x, exp_spe_au.y, label=\"Experimental\", lw=1)\n",
    "ax.plot(x, y_crystal, '--', label=ratio_string(result_crystal), lw=1)\n",
    "ax.set_xlim(xmax=2000)\n",
    "ax.legend(loc='upper left')\n",
    "\n",
    "ax.set_title('nCAL, Best fit Crystal')\n",
    "\n",
    "ax.set_xlabel('Raman shift [$\\mathrm{cm}^{-1}$]')\n",
    "ax.set_ylabel('Intensity [a.u.]')\n",
    "\n",
    "fig.savefig('cal-fit-crystal.pdf')\n",
    "\n"
   ]
  },
  {
   "cell_type": "code",
   "execution_count": null,
   "id": "726cea4a-eb7b-4e90-b1cc-c68eb7c0b3e7",
   "metadata": {},
   "outputs": [],
   "source": [
    "spe_types = [\n",
    "    #'I_tot',\n",
    "    'I_par',\n",
    "    'I_perp',\n",
    "    #'I_xx',\n",
    "    #'I_xy',\n",
    "    #'I_xz',\n",
    "    #'I_yy',\n",
    "    #'I_yz',\n",
    "    #'I_zz'\n",
    "]\n",
    "\n",
    "lm_model = VoigtModel\n",
    "crystal_par_perp_model = np.sum([\n",
    "    lm_model(prefix=f\"{spe_t}_{li}_\", name=f\"{spe_t}_{li}\")\n",
    "    for spe_t in spe_types\n",
    "    for li in range(len(crystal_lines['Frequencies']))\n",
    "])\n",
    "\n",
    "crystal_par_perp_params = Parameters()\n",
    "crystal_par_perp_params.add('sigma', 2, min=0)\n",
    "crystal_par_perp_params.add('x0', 0)\n",
    "crystal_par_perp_params.add('x1', 1)\n",
    "for spe_t in spe_types:\n",
    "    crystal_par_perp_params.add(f'{spe_t}_amplitude', 200, min=0)\n",
    "    crystal_par_perp_params.add(f'{spe_t}_pedestal', 0, min=0)\n",
    "    for i, pos, intens in zip(range(len(crystal_lines['Frequencies'])),\n",
    "                              crystal_lines['Frequencies'].values,\n",
    "                              crystal_lines[spe_t].values\n",
    "                             ):\n",
    "        prefix = f\"{spe_t}_{i}_\"\n",
    "        crystal_par_perp_params.add(prefix+'amplitude', expr=f\"({intens}*{spe_t}_amplitude)+{spe_t}_pedestal\")\n",
    "        crystal_par_perp_params.add(prefix+'center', expr=f\"({pos}*x1)+x0\")\n",
    "        crystal_par_perp_params.add(prefix+'sigma', expr='sigma')\n",
    "    "
   ]
  },
  {
   "cell_type": "code",
   "execution_count": null,
   "id": "34f0fdc2-81fa-4687-ac03-f88912e4dba4",
   "metadata": {},
   "outputs": [],
   "source": [
    "fig, ax = plt.subplots(1, figsize=(12,5))\n",
    "ax.plot(exp_spe.x, exp_spe.y, label='spe nCAL')\n",
    "\n",
    "ax.plot(crystal_par_perp_model.eval(params=crystal_par_perp_params, x=np.arange(0, 2000)), label='CRYSTAL sim')\n",
    "\n",
    "ax.set_xlim(xmax=2000)\n",
    "\n",
    "ax.legend()\n",
    "show_keys = ['x0', 'x1', 'I_perp_amplitude', 'I_par_amplitude', 'sigma']\n",
    "{k: v for k, v in crystal_par_perp_params.items() if k in show_keys}"
   ]
  },
  {
   "cell_type": "code",
   "execution_count": null,
   "id": "9a74752d-431f-4fa1-9eb9-bebd17cf16e8",
   "metadata": {},
   "outputs": [],
   "source": [
    "result = crystal_par_perp_model.fit(exp_spe.y, crystal_par_perp_params, x=exp_spe.x)\n",
    "#result.values"
   ]
  },
  {
   "cell_type": "code",
   "execution_count": null,
   "id": "588cc3a6-601e-435a-bc06-89ee649c1da8",
   "metadata": {},
   "outputs": [],
   "source": [
    "fig, ax = plt.subplots(1, figsize=(12,5))\n",
    "ax.plot(exp_spe.x, exp_spe.y, label='exp spe nCAL')\n",
    "\n",
    "ax.plot(result.eval(x=np.arange(4000)), '--', label='par perp best fit')\n",
    "\n",
    "ax.plot(crystal_par_perp_model.eval(params=crystal_par_perp_params, x=np.arange(0, 2000)), ':', label='Initial guess')\n",
    "\n",
    "ax.set_xlim(xmax=2000)\n",
    "ax.legend()\n",
    "show_keys = ['x0', 'x1', 'I_perp_amplitude', 'I_par_amplitude', 'sigma']\n",
    "\n",
    "[\n",
    "    {k: v.value for k, v in result.init_params.items() if k in show_keys},\n",
    "    {k: v.value for k, v in result.params.items() if k in show_keys}\n",
    "]"
   ]
  },
  {
   "cell_type": "markdown",
   "id": "4ae7d390-3651-40f2-9d09-51287b60bc78",
   "metadata": {},
   "source": [
    "## fix `sigma`, `x0` and `x1` and find percentages of I_xx, I_xy, ..."
   ]
  },
  {
   "cell_type": "code",
   "execution_count": null,
   "id": "b3bcd284-48b6-4365-82eb-48c13a7dac1f",
   "metadata": {},
   "outputs": [],
   "source": [
    "spe_types = [\n",
    "    #'I_tot',\n",
    "    #'I_par',\n",
    "    #'I_perp',\n",
    "    'I_xx',\n",
    "    'I_xy',\n",
    "    'I_xz',\n",
    "    'I_yy',\n",
    "    'I_yz',\n",
    "    'I_zz'\n",
    "]\n",
    "\n",
    "lm_model = VoigtModel\n",
    "crystal_all_model = np.sum([\n",
    "    lm_model(prefix=f\"{spe_t}_{li}_\", name=f\"{spe_t}_{li}\")\n",
    "    for spe_t in spe_types\n",
    "    for li in range(len(crystal_lines['Frequencies']))\n",
    "])\n",
    "crystal_all_params = Parameters()\n",
    "crystal_all_params.add('sigma', result.values['sigma'], min=0, vary=False)\n",
    "crystal_all_params.add('x0', result.values['x0'], vary=False)\n",
    "crystal_all_params.add('x1', result.values['x1'], vary=False)\n",
    "for spe_t in spe_types:\n",
    "    crystal_all_params.add(f'{spe_t}_amplitude', 200, min=0)\n",
    "    crystal_all_params.add(f'{spe_t}_pedestal', 0, min=0, vary=False)\n",
    "    for i, pos, intens in zip(range(len(crystal_lines['Frequencies'])),\n",
    "                          crystal_lines['Frequencies'].values,\n",
    "                          crystal_lines[spe_t].values\n",
    "                         ):\n",
    "        prefix = f\"{spe_t}_{i}_\"\n",
    "        crystal_all_params.add(prefix+'amplitude', expr=f\"({intens}*{spe_t}_amplitude)+{spe_t}_pedestal\")\n",
    "        crystal_all_params.add(prefix+'center', expr=f\"({pos}*x1)+x0\")\n",
    "        crystal_all_params.add(prefix+'sigma', expr='sigma')\n",
    "    "
   ]
  },
  {
   "cell_type": "code",
   "execution_count": null,
   "id": "195c2849-3451-4e1a-be4b-3ac4e8685a94",
   "metadata": {},
   "outputs": [],
   "source": [
    "result = crystal_all_model.fit(exp_spe.y, crystal_all_params, x=exp_spe.x)"
   ]
  },
  {
   "cell_type": "code",
   "execution_count": null,
   "id": "743dcb1d-76cf-4e34-b635-88bac7cbfd01",
   "metadata": {},
   "outputs": [],
   "source": [
    "fig, ax = plt.subplots(1, figsize=(12,5))\n",
    "ax.plot(exp_spe.x, exp_spe.y, label='spe nCAL')\n",
    "\n",
    "ax.plot(result.eval(x=np.arange(4000)), '--', label='CRYSTAL sim')\n",
    "ax.set_xlim(xmax=2000)\n",
    "ax.legend()\n",
    "show_keys = ['I_xx_amplitude', 'I_xy_amplitude', 'I_xz_amplitude', 'I_yy_amplitude', 'I_yz_amplitude', 'I_zz_amplitude']\n",
    "ratio = np.array([v.value for k, v in result.params.items() if k in show_keys])\n",
    "ratio /= ratio.sum()\n",
    "ratio *= 100\n",
    "for k, v in zip(show_keys, ratio):\n",
    "    print(f'{k}    {v:5.1f} %')"
   ]
  },
  {
   "cell_type": "markdown",
   "id": "2d9638df-0d2b-401e-857b-fe651780423f",
   "metadata": {},
   "source": [
    "- vasp simulation with nearly identical output to crystal $I_{total}$\n",
    "- explain discrepancies between simulated and experimental spectra\n",
    "- not corresponding peaks"
   ]
  }
 ],
 "metadata": {
  "kernelspec": {
   "display_name": "ramanchada2",
   "language": "python",
   "name": "python3"
  },
  "language_info": {
   "codemirror_mode": {
    "name": "ipython",
    "version": 3
   },
   "file_extension": ".py",
   "mimetype": "text/x-python",
   "name": "python",
   "nbconvert_exporter": "python",
   "pygments_lexer": "ipython3",
   "version": "3.11.10"
  }
 },
 "nbformat": 4,
 "nbformat_minor": 5
}
