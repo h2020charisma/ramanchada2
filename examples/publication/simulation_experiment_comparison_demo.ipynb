{
 "cells": [
  {
   "cell_type": "markdown",
   "id": "74a0c04b-4151-41a7-9852-83db0be26774",
   "metadata": {
    "tags": []
   },
   "source": [
    "# Theoretical spectra integration \n",
    "## Comparison of simulated and experimental spectra"
   ]
  },
  {
   "cell_type": "code",
   "execution_count": 1,
   "id": "5a07a056-112a-49a1-87d4-77a42605a1ac",
   "metadata": {
    "tags": []
   },
   "outputs": [],
   "source": [
    "from ramanchada2.theoretical_lines.model_from_lines import model_from_lines\n",
    "from ramanchada2.io.simulated.read_simulated_lines import read_simulated_lines\n",
    "from ramanchada2.io.simulated.crystal.discrete_lines_dat import lines_from_crystal_dat\n",
    "from ramanchada2 import spectrum\n",
    "\n",
    "from lmfit import Model, Parameters\n",
    "from lmfit.models import VoigtModel, GaussianModel\n",
    "import matplotlib.pyplot as plt\n",
    "import numpy as np\n",
    "import pandas as pd"
   ]
  },
  {
   "cell_type": "code",
   "execution_count": 2,
   "id": "274dd1c6-b3ee-4a6b-8e58-d739de50391f",
   "metadata": {
    "tags": []
   },
   "outputs": [],
   "source": [
    "vasp_sim_fn = '../../tests/data/simulations/vasp/snCAL_vasp_raman_ALL.dat'\n",
    "crystal_sim_raw_fn = '../../tests/data/simulations/crystal/calcite_CRYSTAL_PBE_raw_data.dat'\n",
    "crystal_sim_convolved_fn = '../../tests/data/simulations/crystal/calcite_CRYSTAL_PBE_convoluted.dat'\n",
    "\n",
    "exp_spe_fn = '../../tests/data/experimental/Renishaw/nCal_Qontor785_z005H12_100_1x3s.spc'"
   ]
  },
  {
   "cell_type": "markdown",
   "id": "89c898c1-7b3a-47cb-b849-2ee1906985cc",
   "metadata": {
    "tags": []
   },
   "source": [
    "## read _vasp_ simulation for CAL"
   ]
  },
  {
   "cell_type": "code",
   "execution_count": 3,
   "id": "d209404c-4fce-40cd-8a2f-686c2167b880",
   "metadata": {},
   "outputs": [],
   "source": [
    "def get_model_pars(filename, sim_type, *spe_type):\n",
    "    return model_from_lines(\n",
    "        *read_simulated_lines(\n",
    "            open(filename),\n",
    "            sim_type=sim_type,\n",
    "            use=spe_type\n",
    "        ),\n",
    "        #model='gaussian'\n",
    "    )\n",
    "\n",
    "\n",
    "def get_spectrum(filename, sim_type, *spe_type):\n",
    "    mod, pars = get_model_pars(filename, sim_type, *spe_type)\n",
    "    return spectrum.from_theoretical_lines(mod, pars, x=2000)\n",
    "\n"
   ]
  },
  {
   "cell_type": "code",
   "execution_count": null,
   "id": "a9a9793a",
   "metadata": {},
   "outputs": [],
   "source": [
    "#vasp_par['sigma'].set(value=3)\n",
    "#vasp_spe = spectrum.from_theoretical_lines(vasp_mod, vasp_par, x=2000)\n",
    "#vasp_spe.plot()\n",
    "fig, ax = plt.subplots(1, figsize=(12, 5))\n",
    "get_spectrum(vasp_sim_fn, 'vasp', 'I_perp', 'I_par').plot(ax=ax, label='I_perp+I_par')\n",
    "get_spectrum(vasp_sim_fn, 'vasp', 'I_par').plot(ax=ax, label='I_par')\n",
    "get_spectrum(vasp_sim_fn, 'vasp', 'I_perp').plot(ax=ax, label='I_perp')\n",
    "get_spectrum(vasp_sim_fn, 'vasp', 'I_tot').plot(ax=ax, label='I_tot')"
   ]
  },
  {
   "cell_type": "code",
   "execution_count": null,
   "id": "83b8e5d5-d9af-4122-a9cf-4011eba97809",
   "metadata": {},
   "outputs": [],
   "source": [
    "read_simulated_lines(open(crystal_sim_raw_fn), 'crystal_dat')"
   ]
  },
  {
   "cell_type": "markdown",
   "id": "9a1e3554-073e-46ef-99bb-4fdea97f30e4",
   "metadata": {},
   "source": [
    "## Compare a typical experimental spectrum with _vasp_ and _crystal_ simulations"
   ]
  },
  {
   "cell_type": "code",
   "execution_count": null,
   "id": "fe6d9794-8491-41cf-918d-e75a4aaa52eb",
   "metadata": {},
   "outputs": [],
   "source": [
    "with open(crystal_sim_convolved_fn) as f:\n",
    "    crystal_convolved = lines_from_crystal_dat(f)\n",
    "    \n",
    "fig, ax = plt.subplots(4, figsize=(7, 4), sharex=True)\n",
    "ax[0].set_ylabel('Exp\\n[a.u.]')\n",
    "ax[1].set_ylabel('I_tot\\n[a.u.]')\n",
    "ax[2].set_ylabel('I_par\\n[a.u.]')\n",
    "ax[3].set_ylabel('I_perp\\n[a.u.]')\n",
    "ax[3].set_xlabel('Raman shift [$\\mathrm{cm}^{-1}$]')\n",
    "\n",
    "for i, k in enumerate([\n",
    "    'I_tot',\n",
    "    'I_par',\n",
    "    'I_perp',\n",
    "    #'I_xx',\n",
    "    #'I_xy',\n",
    "    #'I_xz',\n",
    "    #'I_yy',\n",
    "    #'I_yz',\n",
    "    #'I_zz'\n",
    "]):\n",
    "    get_spectrum(crystal_sim_raw_fn, 'crystal_dat', k).normalize().plot(ax=ax[i+1], fmt='r', label=f\"Crystal\")\n",
    "    ax[i+1].legend()\n",
    "\n",
    "exp_spe = spectrum.from_local_file(exp_spe_fn)\n",
    "exp_spe.normalize().plot(ax=ax[0], label=\"nCAL; 785 nm\")\n",
    "\n",
    "get_spectrum(vasp_sim_fn, 'vasp', 'I_tot').normalize().plot(ax=ax[1], fmt='g', label='Vasp')\n",
    "get_spectrum(vasp_sim_fn, 'vasp', 'I_par').normalize().plot(ax=ax[2], fmt='g', label='Vasp')\n",
    "get_spectrum(vasp_sim_fn, 'vasp', 'I_perp').normalize().plot(ax=ax[3], fmt='g', label='Vasp')\n",
    "\n",
    "#vasp_spe.plot(ax=ax[1], label='vasp')\n",
    "ax[0].set_xlim(-100, 1800)\n",
    "#ax.legend()\n",
    "for a in ax:\n",
    "    a.legend(loc='upper right')\n",
    "    a.grid(color='y', linestyle=':', linewidth=.5)\n",
    "None\n",
    "fig.suptitle('CAL - Experiment vs Simulation')\n",
    "fig.savefig('cal.pdf')\n"
   ]
  },
  {
   "cell_type": "markdown",
   "id": "b9c5998c-80d3-49f4-8f7d-3fcc4a9c1b2c",
   "metadata": {},
   "source": [
    "## read _crystal_ simulation"
   ]
  },
  {
   "cell_type": "code",
   "execution_count": 9,
   "id": "77179473-42ad-478f-a2bc-fda4e8d1c527",
   "metadata": {},
   "outputs": [],
   "source": [
    "with open(crystal_sim_raw_fn) as f:\n",
    "    crystal_lines = lines_from_crystal_dat(f)"
   ]
  },
  {
   "cell_type": "markdown",
   "id": "8734c93c-503b-4912-b327-6f9c9f5ad845",
   "metadata": {},
   "source": [
    "## build a model and find `sigma`, `x0` and `x1` parameters based on _I_perp_ and _I_par_"
   ]
  },
  {
   "cell_type": "code",
   "execution_count": null,
   "id": "267ec522-278f-4c27-8b06-2787cd9d0673",
   "metadata": {},
   "outputs": [],
   "source": [
    "exp_spe_au = exp_spe.normalize()\n",
    "mod, pars = get_model_pars(crystal_sim_raw_fn, 'crystal_dat', 'I_par', 'I_perp')\n",
    "result_crystal = mod.fit(exp_spe_au.y, params=pars, x=exp_spe_au.x)\n",
    "\n",
    "mod, pars = get_model_pars(vasp_sim_fn, 'vasp', 'I_par', 'I_perp')\n",
    "result_vasp = mod.fit(exp_spe_au.y, params=pars, x=exp_spe_au.x)"
   ]
  },
  {
   "cell_type": "code",
   "execution_count": null,
   "id": "218bfa85-8c37-4b66-884d-b590a91ff3a5",
   "metadata": {},
   "outputs": [],
   "source": [
    "fig, ax = plt.subplots(1, figsize=(7, 4))\n",
    "exp_spe.plot(ax=ax, label=\"Experimental\")\n",
    "x = np.arange(-100, 2000)\n",
    "pars['I_perp_amplitude'].set(value=10)\n",
    "pars['I_par_amplitude'].set(value=10)\n",
    "r = mod.eval(params=pars, x=x)\n",
    "ax1 = ax.twinx()\n",
    "ax1.plot(x, r, 'r')\n",
    "ax.set_xlim(xmax=2000)\n",
    "\n",
    "result = mod.fit(exp_spe.y, params=pars, x=exp_spe.x)\n"
   ]
  },
  {
   "cell_type": "code",
   "execution_count": null,
   "id": "4eb70b2a-b80a-45d8-9eea-9ab936fd1d7b",
   "metadata": {},
   "outputs": [],
   "source": [
    "def ratio_string(result):\n",
    "    ss = result.params['I_par_amplitude']+result.params['I_perp_amplitude']\n",
    "    return f\"I_par {result.params['I_par_amplitude'] / ss*100:.0f} %\\nI_perp {result.params['I_perp_amplitude']/ss*100:.0f} %\"\n",
    "ratio_string(result_crystal), ratio_string(result_vasp)"
   ]
  },
  {
   "cell_type": "code",
   "execution_count": null,
   "id": "b76c71a4-0963-4d69-b619-baa5196349a5",
   "metadata": {},
   "outputs": [],
   "source": [
    "x = np.arange(-100, 2000)\n",
    "y_crystal = result_crystal.eval(x=x)\n",
    "y_vasp = result_vasp.eval(x=x)\n",
    "\n",
    "fig, ax = plt.subplots(1, figsize=(5, 3), tight_layout=True)\n",
    "ax.plot(exp_spe_au.x, exp_spe_au.y, label=\"Experimental\", lw=1)\n",
    "ax.plot(x, y_vasp, '-.', label=ratio_string(result_vasp), lw=1)\n",
    "ax.set_xlim(xmax=2000)\n",
    "ax.legend(loc='upper left')\n",
    "ax.set_xlabel('Raman shift [$\\mathrm{cm}^{-1}$]')\n",
    "ax.set_ylabel('Intensity [a.u.]')\n",
    "ax.set_title('nCAL, Best fit Vasp')\n",
    "\n",
    "fig.savefig('cal-fit-vasp.pdf')\n",
    "\n",
    "\n",
    "fig, ax = plt.subplots(1, figsize=(5, 3), tight_layout=True)\n",
    "ax.plot(exp_spe_au.x, exp_spe_au.y, label=\"Experimental\", lw=1)\n",
    "ax.plot(x, y_crystal, '--', label=ratio_string(result_crystal), lw=1)\n",
    "ax.set_xlim(xmax=2000)\n",
    "ax.legend(loc='upper left')\n",
    "\n",
    "ax.set_title('nCAL, Best fit Crystal')\n",
    "\n",
    "ax.set_xlabel('Raman shift [$\\mathrm{cm}^{-1}$]')\n",
    "ax.set_ylabel('Intensity [a.u.]')\n",
    "\n",
    "fig.savefig('cal-fit-crystal.pdf')\n",
    "\n"
   ]
  },
  {
   "cell_type": "code",
   "execution_count": null,
   "id": "726cea4a-eb7b-4e90-b1cc-c68eb7c0b3e7",
   "metadata": {},
   "outputs": [],
   "source": [
    "spe_types = [\n",
    "    #'I_tot',\n",
    "    'I_par',\n",
    "    'I_perp',\n",
    "    #'I_xx',\n",
    "    #'I_xy',\n",
    "    #'I_xz',\n",
    "    #'I_yy',\n",
    "    #'I_yz',\n",
    "    #'I_zz'\n",
    "]\n",
    "\n",
    "lm_model = VoigtModel\n",
    "crystal_par_perp_model = np.sum([\n",
    "    lm_model(prefix=f\"{spe_t}_{li}_\", name=f\"{spe_t}_{li}\")\n",
    "    for spe_t in spe_types\n",
    "    for li in range(len(crystal_lines['Frequencies']))\n",
    "])\n",
    "\n",
    "crystal_par_perp_params = Parameters()\n",
    "crystal_par_perp_params.add('sigma', 2, min=0)\n",
    "crystal_par_perp_params.add('x0', 0)\n",
    "crystal_par_perp_params.add('x1', 1)\n",
    "for spe_t in spe_types:\n",
    "    crystal_par_perp_params.add(f'{spe_t}_amplitude', 200, min=0)\n",
    "    crystal_par_perp_params.add(f'{spe_t}_pedestal', 0, min=0)\n",
    "    for i, pos, intens in zip(range(len(crystal_lines['Frequencies'])),\n",
    "                              crystal_lines['Frequencies'].values,\n",
    "                              crystal_lines[spe_t].values\n",
    "                             ):\n",
    "        prefix = f\"{spe_t}_{i}_\"\n",
    "        crystal_par_perp_params.add(prefix+'amplitude', expr=f\"({intens}*{spe_t}_amplitude)+{spe_t}_pedestal\")\n",
    "        crystal_par_perp_params.add(prefix+'center', expr=f\"({pos}*x1)+x0\")\n",
    "        crystal_par_perp_params.add(prefix+'sigma', expr='sigma')\n",
    "    "
   ]
  },
  {
   "cell_type": "code",
   "execution_count": null,
   "id": "34f0fdc2-81fa-4687-ac03-f88912e4dba4",
   "metadata": {},
   "outputs": [],
   "source": [
    "fig, ax = plt.subplots(1, figsize=(12,5))\n",
    "ax.plot(exp_spe.x, exp_spe.y, label='spe nCAL')\n",
    "\n",
    "ax.plot(crystal_par_perp_model.eval(params=crystal_par_perp_params, x=np.arange(0, 2000)), label='CRYSTAL sim')\n",
    "\n",
    "ax.set_xlim(xmax=2000)\n",
    "\n",
    "ax.legend()\n",
    "show_keys = ['x0', 'x1', 'I_perp_amplitude', 'I_par_amplitude', 'sigma']\n",
    "{k: v for k, v in crystal_par_perp_params.items() if k in show_keys}"
   ]
  },
  {
   "cell_type": "code",
   "execution_count": null,
   "id": "9a74752d-431f-4fa1-9eb9-bebd17cf16e8",
   "metadata": {},
   "outputs": [],
   "source": [
    "result = crystal_par_perp_model.fit(exp_spe.y, crystal_par_perp_params, x=exp_spe.x)\n",
    "#result.values"
   ]
  },
  {
   "cell_type": "code",
   "execution_count": null,
   "id": "588cc3a6-601e-435a-bc06-89ee649c1da8",
   "metadata": {},
   "outputs": [],
   "source": [
    "fig, ax = plt.subplots(1, figsize=(12,5))\n",
    "ax.plot(exp_spe.x, exp_spe.y, label='exp spe nCAL')\n",
    "\n",
    "ax.plot(result.eval(x=np.arange(4000)), '--', label='par perp best fit')\n",
    "\n",
    "ax.plot(crystal_par_perp_model.eval(params=crystal_par_perp_params, x=np.arange(0, 2000)), ':', label='Initial guess')\n",
    "\n",
    "ax.set_xlim(xmax=2000)\n",
    "ax.legend()\n",
    "show_keys = ['x0', 'x1', 'I_perp_amplitude', 'I_par_amplitude', 'sigma']\n",
    "\n",
    "[\n",
    "    {k: v.value for k, v in result.init_params.items() if k in show_keys},\n",
    "    {k: v.value for k, v in result.params.items() if k in show_keys}\n",
    "]"
   ]
  },
  {
   "cell_type": "markdown",
   "id": "4ae7d390-3651-40f2-9d09-51287b60bc78",
   "metadata": {},
   "source": [
    "## fix `sigma`, `x0` and `x1` and find percentages of I_xx, I_xy, ..."
   ]
  },
  {
   "cell_type": "code",
   "execution_count": null,
   "id": "b3bcd284-48b6-4365-82eb-48c13a7dac1f",
   "metadata": {},
   "outputs": [],
   "source": [
    "spe_types = [\n",
    "    #'I_tot',\n",
    "    #'I_par',\n",
    "    #'I_perp',\n",
    "    'I_xx',\n",
    "    'I_xy',\n",
    "    'I_xz',\n",
    "    'I_yy',\n",
    "    'I_yz',\n",
    "    'I_zz'\n",
    "]\n",
    "\n",
    "lm_model = VoigtModel\n",
    "crystal_all_model = np.sum([\n",
    "    lm_model(prefix=f\"{spe_t}_{li}_\", name=f\"{spe_t}_{li}\")\n",
    "    for spe_t in spe_types\n",
    "    for li in range(len(crystal_lines['Frequencies']))\n",
    "])\n",
    "crystal_all_params = Parameters()\n",
    "crystal_all_params.add('sigma', result.values['sigma'], min=0, vary=False)\n",
    "crystal_all_params.add('x0', result.values['x0'], vary=False)\n",
    "crystal_all_params.add('x1', result.values['x1'], vary=False)\n",
    "for spe_t in spe_types:\n",
    "    crystal_all_params.add(f'{spe_t}_amplitude', 200, min=0)\n",
    "    crystal_all_params.add(f'{spe_t}_pedestal', 0, min=0, vary=False)\n",
    "    for i, pos, intens in zip(range(len(crystal_lines['Frequencies'])),\n",
    "                          crystal_lines['Frequencies'].values,\n",
    "                          crystal_lines[spe_t].values\n",
    "                         ):\n",
    "        prefix = f\"{spe_t}_{i}_\"\n",
    "        crystal_all_params.add(prefix+'amplitude', expr=f\"({intens}*{spe_t}_amplitude)+{spe_t}_pedestal\")\n",
    "        crystal_all_params.add(prefix+'center', expr=f\"({pos}*x1)+x0\")\n",
    "        crystal_all_params.add(prefix+'sigma', expr='sigma')\n",
    "    "
   ]
  },
  {
   "cell_type": "code",
   "execution_count": null,
   "id": "195c2849-3451-4e1a-be4b-3ac4e8685a94",
   "metadata": {},
   "outputs": [],
   "source": [
    "result = crystal_all_model.fit(exp_spe.y, crystal_all_params, x=exp_spe.x)"
   ]
  },
  {
   "cell_type": "code",
   "execution_count": null,
   "id": "743dcb1d-76cf-4e34-b635-88bac7cbfd01",
   "metadata": {},
   "outputs": [],
   "source": [
    "fig, ax = plt.subplots(1, figsize=(12,5))\n",
    "ax.plot(exp_spe.x, exp_spe.y, label='spe nCAL')\n",
    "\n",
    "ax.plot(result.eval(x=np.arange(4000)), '--', label='CRYSTAL sim')\n",
    "ax.set_xlim(xmax=2000)\n",
    "ax.legend()\n",
    "show_keys = ['I_xx_amplitude', 'I_xy_amplitude', 'I_xz_amplitude', 'I_yy_amplitude', 'I_yz_amplitude', 'I_zz_amplitude']\n",
    "ratio = np.array([v.value for k, v in result.params.items() if k in show_keys])\n",
    "ratio /= ratio.sum()\n",
    "ratio *= 100\n",
    "for k, v in zip(show_keys, ratio):\n",
    "    print(f'{k}    {v:5.1f} %')"
   ]
  },
  {
   "cell_type": "markdown",
   "id": "2d9638df-0d2b-401e-857b-fe651780423f",
   "metadata": {},
   "source": [
    "- vasp simulation with nearly identical output to crystal $I_{total}$\n",
    "- explain discrepancies between simulated and experimental spectra\n",
    "- not corresponding peaks"
   ]
  }
 ],
 "metadata": {
  "kernelspec": {
   "display_name": "ramanchada2",
   "language": "python",
   "name": "python3"
  },
  "language_info": {
   "codemirror_mode": {
    "name": "ipython",
    "version": 3
   },
   "file_extension": ".py",
   "mimetype": "text/x-python",
   "name": "python",
   "nbconvert_exporter": "python",
   "pygments_lexer": "ipython3",
   "version": "3.11.9"
  }
 },
 "nbformat": 4,
 "nbformat_minor": 5
}
