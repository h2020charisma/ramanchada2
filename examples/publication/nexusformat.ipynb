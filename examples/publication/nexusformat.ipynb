{
 "cells": [
  {
   "cell_type": "code",
   "execution_count": 1,
   "metadata": {},
   "outputs": [],
   "source": [
    "import ramanchada2 as rc2\n",
    "import matplotlib.pyplot as plt\n",
    "import numpy as np\n",
    "import os.path\n",
    "import pyambit.datamodel as mx\n",
    "from pyambit.nexus_spectra import spe2ambit\n",
    "import nexusformat.nexus.tree as nx\n",
    "import uuid"
   ]
  },
  {
   "cell_type": "code",
   "execution_count": null,
   "metadata": {},
   "outputs": [],
   "source": [
    "sample_pst = \"PST\"\n",
    "provider = \"ICV\"\n",
    "instrument_vendor = \"BWtek\"\n",
    "laser_wl = 532\n",
    "kwargs = {\"sample\":[sample_pst], \"provider\" : [provider], \"device\" : [instrument_vendor], \"OP\":['050'], \"laser_wl\":[str(laser_wl)]}\n",
    "spe_pst = rc2.spectrum.from_test_spe(**kwargs)\n",
    "\n",
    "sample_sil = \"S0B\"\n",
    "kwargs = {\"sample\":[sample_sil], \"provider\" : [provider], \"device\" : [instrument_vendor], \"OP\":['050'], \"laser_wl\":[str(laser_wl)]}\n",
    "spe_sil = rc2.spectrum.from_test_spe(**kwargs)\n",
    "\n",
    "ax = spe_pst.plot(label=sample_pst)\n",
    "ax = spe_sil.plot(label=sample_sil, ax =ax)\n",
    "ax.set_xlabel(\"Wavenumber/cm¯¹\")\n",
    "ax.set_ylabel(\"Raman intensity/\\nArbitr.units\")\n",
    "ax.grid()\n",
    "# spe_pst.meta,spe_sil.meta"
   ]
  },
  {
   "cell_type": "code",
   "execution_count": null,
   "metadata": {},
   "outputs": [],
   "source": [
    "\n",
    "prefix = \"TEST\"\n",
    "\n",
    "substances = []\n",
    "for (sample,spe) in zip([sample_pst,sample_sil],[spe_pst,spe_sil]):\n",
    "    substance = mx.SubstanceRecord(name=sample, publicname=sample, ownerName=\"TEST\")\n",
    "    substance.i5uuid = \"{}-{}\".format(prefix, uuid.uuid5(uuid.NAMESPACE_OID, sample))\n",
    "    protocol_application = spe2ambit(\n",
    "        x=spe.x,\n",
    "        y=spe.y,\n",
    "        meta=spe.meta.dict(), \n",
    "        instrument=(instrument_vendor,\"model\"),\n",
    "        wavelength=laser_wl,\n",
    "        provider=provider,\n",
    "        investigation=\"My experiment\",\n",
    "        sample=sample,\n",
    "        sample_provider=\"CHARISMA\",\n",
    "        prefix=prefix,\n",
    "        endpointtype=\"RAW_DATA\",\n",
    "        unit=\"cm-1\",\n",
    "    )\n",
    "    substance.study = [protocol_application]\n",
    "    substances.append(substance)\n",
    "\n",
    "substances = mx.Substances(substance=substances)\n",
    "file = \"spectra_demo.nxs\"\n",
    "nxroot = nx.NXroot()\n",
    "nxroot.attrs[\"pyambit\"] = \"0.0.1\"\n",
    "nxroot.attrs[\"file_name\"] = os.path.basename(file)\n",
    "substances.to_nexus(nxroot)\n",
    "\n",
    "print(file)\n",
    "#print(nxroot.tree)\n",
    "nxroot.save(file, mode=\"w\")"
   ]
  }
 ],
 "metadata": {
  "kernelspec": {
   "display_name": "ramanchada2",
   "language": "python",
   "name": "python3"
  },
  "language_info": {
   "codemirror_mode": {
    "name": "ipython",
    "version": 3
   },
   "file_extension": ".py",
   "mimetype": "text/x-python",
   "name": "python",
   "nbconvert_exporter": "python",
   "pygments_lexer": "ipython3",
   "version": "3.11.10"
  },
  "orig_nbformat": 4
 },
 "nbformat": 4,
 "nbformat_minor": 2
}
