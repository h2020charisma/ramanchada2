{
 "cells": [
  {
   "cell_type": "markdown",
   "id": "06e5a61f-2bcb-4f7e-ae93-927c85f4e6b7",
   "metadata": {},
   "source": [
    "# Generate synthetic spectra using ramanchada2"
   ]
  },
  {
   "cell_type": "code",
   "execution_count": null,
   "id": "0802b101-9ac3-4462-95b1-eb5b40cd563e",
   "metadata": {},
   "outputs": [],
   "source": [
    "import ramanchada2 as rc2\n",
    "import ipywidgets as ipyw\n",
    "import numpy as np\n",
    "import matplotlib.pyplot as plt\n",
    "\n",
    "spe_tmp = {'orig': rc2.spectrum.from_delta_lines(deltas={500:1e3, 900:1.5e3})}\n",
    "def convolve(lineshape, sigma):\n",
    "    spe_tmp['convolved'] = spe_tmp['orig'].convolve(lineshape=lineshape, sigma=sigma)\n",
    "    spe_tmp['convolved'].plot()\n",
    "def add_baseline(n_freq, amplitude, pedestal, rng_seed, a1, a2):\n",
    "    spe_tmp['baseline'] = spe_tmp['convolved'].add_baseline(n_freq=n_freq, amplitude=amplitude, pedestal=pedestal, rng_seed=rng_seed, func=lambda x: x*a1 + x**2*a2)\n",
    "    spe_tmp['baseline'].plot()\n",
    "def add_noise(scale, rng_seed):\n",
    "    spe_tmp['noise'] = spe_tmp['baseline'].add_poisson_noise(scale=scale, rng_seed=rng_seed)\n",
    "    spe_tmp['noise'].plot()"
   ]
  },
  {
   "cell_type": "markdown",
   "id": "a8362c6e-8650-495c-abbc-5d1c6b050ac1",
   "metadata": {},
   "source": [
    "## end-to-end example"
   ]
  },
  {
   "cell_type": "code",
   "execution_count": null,
   "id": "db41058b-aab7-4238-82a7-247975885bbf",
   "metadata": {},
   "outputs": [],
   "source": [
    "for sigma in [10, 20, 30]:\n",
    "    spe = rc2.spectrum.from_delta_lines(deltas={500:1e3, 700:1.5e3})\n",
    "    spe = spe.convolve(lineshape='voigt', sigma=sigma, gamma=3)\n",
    "    spe = spe.add_baseline(n_freq=50, amplitude=10, pedestal=10, func=lambda x: x*.006 + x**2*.00001)\n",
    "    spe = spe.add_poisson_noise(scale=.01)\n",
    "    spe.plot()"
   ]
  },
  {
   "cell_type": "markdown",
   "id": "a8182afd-f8f3-4687-9f34-0dfbed53ad87",
   "metadata": {},
   "source": [
    "## documentation of the methods"
   ]
  },
  {
   "cell_type": "code",
   "execution_count": null,
   "id": "fb27d8b6-a798-4941-8541-d7a18da310c6",
   "metadata": {},
   "outputs": [],
   "source": [
    "help(rc2.spectrum.from_delta_lines)"
   ]
  },
  {
   "cell_type": "code",
   "execution_count": null,
   "id": "da7d0dad-e704-433a-992f-64fc27922c01",
   "metadata": {},
   "outputs": [],
   "source": [
    "help(spe.convolve)"
   ]
  },
  {
   "cell_type": "code",
   "execution_count": null,
   "id": "0d50df60-7bb7-4f50-8aa0-b5d414c877dc",
   "metadata": {},
   "outputs": [],
   "source": [
    "help(spe.add_baseline)"
   ]
  },
  {
   "cell_type": "code",
   "execution_count": null,
   "id": "871b9b3f-f57b-4735-84c0-2e185ee08985",
   "metadata": {},
   "outputs": [],
   "source": [
    "help(spe.add_poisson_noise)"
   ]
  },
  {
   "cell_type": "markdown",
   "id": "b84a0aa6-4b46-4393-aef8-fad1d03416ed",
   "metadata": {
    "tags": []
   },
   "source": [
    "## Interactive example"
   ]
  },
  {
   "cell_type": "code",
   "execution_count": null,
   "id": "d7a2e49b-6570-4b15-a7f6-b2e5737211c6",
   "metadata": {},
   "outputs": [],
   "source": [
    "ipyw.interact(\n",
    "    convolve,\n",
    "    lineshape=ipyw.widgets.Dropdown(options=['voigt', 'gaussian', 'lorentzian', 'pvoigt', 'moffat']),\n",
    "    sigma=ipyw.widgets.FloatSlider(min=1, max=50, value=5),\n",
    ")\n",
    "None"
   ]
  },
  {
   "cell_type": "code",
   "execution_count": null,
   "id": "94a17c0c-eb68-4d96-8930-7417e75e0e7c",
   "metadata": {},
   "outputs": [],
   "source": [
    "ipyw.interact(\n",
    "    add_baseline,\n",
    "    n_freq=ipyw.widgets.IntSlider(min=3, max=500, value=50),\n",
    "    a1=ipyw.widgets.FloatSlider(min=-.2, max=.2, value=.0, step=.00001),\n",
    "    a2=ipyw.widgets.FloatSlider(min=-.0002, max=.0002, value=.0, step=.00001,  readout_format='.5f'),\n",
    "    amplitude=ipyw.widgets.FloatSlider(min=0, max=50, value=10),\n",
    "    pedestal=ipyw.widgets.FloatSlider(min=1, max=50, value=10),\n",
    "    rng_seed=ipyw.widgets.IntSlider(min=0, max=999999, value=0)\n",
    ")\n",
    "None"
   ]
  },
  {
   "cell_type": "code",
   "execution_count": null,
   "id": "347d7a3a-07c4-47ce-ab56-7ae5cb1c17e6",
   "metadata": {},
   "outputs": [],
   "source": [
    "ipyw.interact(\n",
    "    add_noise,\n",
    "    scale=ipyw.widgets.FloatSlider(min=0, max=2, value=.01),\n",
    "    rng_seed=ipyw.widgets.IntSlider(min=0, max=999999, value=0)\n",
    ")\n",
    "None"
   ]
  },
  {
   "cell_type": "code",
   "execution_count": null,
   "id": "a741ce77-0f3a-43eb-b397-908559d8feae",
   "metadata": {},
   "outputs": [],
   "source": [
    "import ramanchada2 as rc2\n",
    "spe = rc2.spectrum.from_delta_lines(deltas={500:1e3, 700:1.5e3})\n",
    "spe = spe.convolve(lineshape='voigt', sigma=5)\n",
    "spe = spe.add_baseline(n_freq=50, amplitude=10, pedestal=10)\n",
    "spe = spe.add_poisson_noise(scale=.01)\n",
    "spe.plot()"
   ]
  },
  {
   "cell_type": "markdown",
   "id": "eaeb037c-684c-4c66-b5d1-2de9f488ab4e",
   "metadata": {},
   "source": [
    "## convolution usage"
   ]
  },
  {
   "cell_type": "code",
   "execution_count": null,
   "id": "b6ecbbe4-b084-45a8-933a-b15cf0ef0ba5",
   "metadata": {},
   "outputs": [],
   "source": [
    "spe = rc2.spectrum.from_delta_lines(deltas={500:1e3, 700:1.5e3})\n",
    "fig, ax = plt.subplots(nrows=3, figsize=(10, 8), sharex=True, tight_layout=True)\n",
    "spe.convolve(lineshape='voigt', sigma=3, gamma=5).plot(label=r'voigt$(\\sigma=3, \\gamma=5)$', ax=ax[0])\n",
    "spe.convolve(lineshape=np.array([.1]*15+[.4]*15+[1]*15+[0]+[1]*25+[.4]*25+[.1]*25)/23).plot(label='user-defined array', ax=ax[2])\n",
    "spe.convolve(lineshape=lambda x, w: np.exp(-(x/w)**2)/20, w=20).plot(label='user-defined exp(-(x/20)**2)/20', ax=ax[1])\n",
    "ax[2].set_xlabel('Raman shift [$\\mathrm{cm}^{-1}$]')\n",
    "fig.savefig('/tmp/convolve.png')"
   ]
  },
  {
   "cell_type": "code",
   "execution_count": null,
   "id": "1d168697-e1f7-43fd-ac82-d8db5080f705",
   "metadata": {},
   "outputs": [],
   "source": [
    "\n",
    "fig, ax = plt.subplots(nrows=3, figsize=(10, 8), sharex=True, tight_layout=True)\n",
    "speconv = spe.convolve(lineshape='voigt', sigma=3, gamma=5)\n",
    "ax[0].set_title('n_freq=50; amplitude=50; fun$(x)=0.006\\,x + 0.0001\\,x^2$')\n",
    "speconv.add_baseline(n_freq=50, amplitude=50, pedestal=10, func=lambda x: x*.006 + x**2*.0001).plot(ax=ax[0])\n",
    "speconv.add_baseline(n_freq=50, amplitude=50, pedestal=10, func=lambda x: x*.006 + x**2*.0001).plot(ax=ax[0])\n",
    "speconv.add_baseline(n_freq=50, amplitude=50, pedestal=10, func=lambda x: x*.006 + x**2*.0001).plot(ax=ax[0])\n",
    "#speconv.add_baseline(n_freq=50, amplitude=50, pedestal=10, func=lambda x: x*.006 + x**2*.0001).plot(ax=ax[0])\n",
    "ax[1].set_title('n_freq=150; amplitude=20; fun$(x)=0.006\\,x + 0.0001\\,x^2$')\n",
    "speconv.add_baseline(n_freq=150, amplitude=20, pedestal=10, func=lambda x: x*.006 + x**2*.0001).plot(ax=ax[1])\n",
    "speconv.add_baseline(n_freq=150, amplitude=20, pedestal=10, func=lambda x: x*.006 + x**2*.0001).plot(ax=ax[1])\n",
    "speconv.add_baseline(n_freq=150, amplitude=20, pedestal=10, func=lambda x: x*.006 + x**2*.0001).plot(ax=ax[1])\n",
    "#speconv.add_baseline(n_freq=150, amplitude=20, pedestal=10, func=lambda x: x*.006 + x**2*.0001).plot(ax=ax[1])\n",
    "ax[2].set_title('n_freq=20; amplitude=20; fun$(x)=-1.5\\,x + 0.001\\,x^2$')\n",
    "\n",
    "speconv.add_baseline(n_freq=20, amplitude=20, pedestal=10, func=lambda x: 600-x*1.5 + x**2*.001).plot(ax=ax[2])\n",
    "speconv.add_baseline(n_freq=20, amplitude=20, pedestal=10, func=lambda x: 600-x*1.5 + x**2*.001).plot(ax=ax[2])\n",
    "speconv.add_baseline(n_freq=20, amplitude=20, pedestal=10, func=lambda x: 600-x*1.5 + x**2*.001).plot(ax=ax[2])\n",
    "ax[2].set_xlabel('Raman shift [$\\mathrm{cm}^{-1}$]')\n",
    "\n",
    "fig.savefig('/tmp/baseline.png')"
   ]
  },
  {
   "cell_type": "code",
   "execution_count": null,
   "id": "629b9ada-5870-4464-a6ab-eeaf2d6869bb",
   "metadata": {},
   "outputs": [],
   "source": [
    "fig, ax = plt.subplots(nrows=3, figsize=(10, 8), sharex=True, tight_layout=True)\n",
    "\n",
    "spe_baseline = speconv.add_baseline(n_freq=20, amplitude=20, pedestal=10, func=lambda x: 600-x*1.5 + x**2*.001)\n",
    "ax[0].set_title('scale=0.01')\n",
    "spe_baseline.add_poisson_noise(scale=.01).plot(ax=ax[0], alpha=.8, fmt=':')\n",
    "spe_baseline.add_poisson_noise(scale=.01).plot(ax=ax[0], alpha=.8, fmt=':')\n",
    "spe_baseline.add_poisson_noise(scale=.01).plot(ax=ax[0], alpha=.8, fmt=':')\n",
    "\n",
    "ax[1].set_title('scale=0.05')\n",
    "spe_baseline.add_poisson_noise(scale=.05).plot(ax=ax[1], alpha=.8, fmt=':')\n",
    "spe_baseline.add_poisson_noise(scale=.05).plot(ax=ax[1], alpha=.8, fmt=':')\n",
    "spe_baseline.add_poisson_noise(scale=.05).plot(ax=ax[1], alpha=.8, fmt=':')\n",
    "\n",
    "ax[2].set_title('scale=0.2')\n",
    "spe_baseline.add_poisson_noise(scale=.2).plot(ax=ax[2], alpha=.8, fmt=':')\n",
    "spe_baseline.add_poisson_noise(scale=.2).plot(ax=ax[2], alpha=.8, fmt=':')\n",
    "spe_baseline.add_poisson_noise(scale=.2).plot(ax=ax[2], alpha=.8, fmt=':')\n",
    "ax[2].set_xlabel('Raman shift [$\\mathrm{cm}^{-1}$]')\n",
    "\n",
    "fig.savefig('/tmp/noise.png')"
   ]
  },
  {
   "cell_type": "code",
   "execution_count": null,
   "id": "439b1778-eab9-4f19-9fb7-11efcc911142",
   "metadata": {},
   "outputs": [],
   "source": [
    "fig, ax = plt.subplots(nrows=2, figsize=(10, 8))\n",
    "markersize = 2\n",
    "\n",
    "\n",
    "\n",
    "\n",
    "spe_deltas = rc2.spectrum.from_delta_lines(deltas={800:1e3, 1800:1.5e3, 2500:1e3})\n",
    "spe_initial = spe_deltas.resample_NUDFT_filter(xnew_bins=100).convolve(lineshape='voigt', sigma=.1, gamma=1)\n",
    "spe_baseline = spe_initial.add_baseline(n_freq=30, amplitude=50, pedestal=10, func=lambda x: x*.05 - .00001*x**2)\n",
    "spe_complete = spe_baseline.add_poisson_noise(scale=.5)\n",
    "spe_scaled = spe_complete.scale_xaxis_fun(lambda x: x**2*.0001 + x*.22)\n",
    "spe_nobaseline = spe_scaled.subtract_moving_minimum(6)\n",
    "spe_resampled = spe_nobaseline.resample_NUDFT_filter(xnew_bins=100, x_range=(0, 2500))\n",
    "spe_normalized = spe_resampled.normalize()\n",
    "\n",
    "\n",
    "\n",
    "spe_initial.plot(ax=ax[0], fmt='.', label='Original', markersize=markersize)\n",
    "\n",
    "spe_complete.plot(ax=ax[0], fmt='.', label='Baseline + noise', markersize=markersize)\n",
    "\n",
    "spe_scaled.plot(ax=ax[1], fmt=\".\", markersize=markersize, label='Scaled $xnew = 10^{-4}\\,x^2 + 0.22\\,x$')\n",
    "ax[1].legend(loc='upper left')\n",
    "spe_normalized.plot(ax=ax[1].twinx(), fmt=\".r\", markersize=markersize, label='mov_min + resampling + normalize')\n",
    "fig.savefig('/tmp/xscale_nudft.png')"
   ]
  },
  {
   "cell_type": "code",
   "execution_count": null,
   "id": "e81eae4e-6570-4f34-934e-489ea89614a0",
   "metadata": {},
   "outputs": [],
   "source": []
  }
 ],
 "metadata": {
  "kernelspec": {
   "display_name": "ramanchada2",
   "language": "python",
   "name": "ramanchada2"
  },
  "language_info": {
   "codemirror_mode": {
    "name": "ipython",
    "version": 3
   },
   "file_extension": ".py",
   "mimetype": "text/x-python",
   "name": "python",
   "nbconvert_exporter": "python",
   "pygments_lexer": "ipython3",
   "version": "3.9.11"
  }
 },
 "nbformat": 4,
 "nbformat_minor": 5
}
