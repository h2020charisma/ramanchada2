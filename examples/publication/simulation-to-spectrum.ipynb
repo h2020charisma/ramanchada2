{
 "cells": [
  {
   "cell_type": "markdown",
   "id": "9fc320ad",
   "metadata": {},
   "source": [
    "# Theoretical spectra integration "
   ]
  },
  {
   "cell_type": "code",
   "execution_count": 1,
   "id": "5ef2a28a-959a-4341-a4d7-45ac0f8bc47e",
   "metadata": {
    "tags": []
   },
   "outputs": [],
   "source": [
    "import ramanchada2 as rc2\n",
    "\n",
    "from scipy import signal\n",
    "import matplotlib.pyplot as plt\n",
    "import numpy as np"
   ]
  },
  {
   "cell_type": "code",
   "execution_count": 25,
   "id": "407629a5-d42f-481a-970c-5a6c47b7be31",
   "metadata": {
    "tags": []
   },
   "outputs": [],
   "source": [
    "vasp_sim_fn = '../../tests/data/simulations/vasp/snCAL_vasp_raman_ALL.dat'\n",
    "crystal_dat_fn = '../../tests/data/simulations/crystal/calcite_CRYSTAL_PBE_raw_data.dat'\n",
    "crystal_out_fn = '../../tests/data/simulations/crystal/Anatase_PBE_pob_TZVP_Raman_intens.out'"
   ]
  },
  {
   "cell_type": "code",
   "execution_count": null,
   "id": "2cd4efb1-3396-4d70-b54c-b47e736b8f6c",
   "metadata": {},
   "outputs": [],
   "source": [
    "vasp_spe = rc2.spectrum.from_simulation(vasp_sim_fn, sim_type='vasp')\n",
    "crystal_dat_spe = rc2.spectrum.from_simulation(crystal_dat_fn, sim_type='crystal_dat')\n",
    "crystal_out_spe = rc2.spectrum.from_simulation(crystal_out_fn, sim_type='crystal_out')\n",
    "fig, ax = plt.subplots(1,2,figsize=(12,3))\n",
    "\n",
    "vasp_spe.plot(ax=ax[0], label='vasp')\n",
    "crystal_dat_spe.plot(ax=ax[0], label='crystal_dat')\n",
    "crystal_out_spe.plot(ax=ax[0], label='crystal_out')\n",
    "\n",
    "\n",
    "vasp_spe.resample_spline_filter(x_range=(0, 3500), xnew_bins=800,spline='makima').plot(ax=ax[1], label='vasp')\n",
    "crystal_dat_spe.resample_spline_filter(x_range=(0, 3500), xnew_bins=800,spline='makima').plot(ax=ax[1], label='crystal_dat')\n",
    "crystal_out_spe.resample_spline_filter(x_range=(0, 3500), xnew_bins=800,spline='makima').plot(ax=ax[1], label='crystal_out')"
   ]
  },
  {
   "cell_type": "code",
   "execution_count": null,
   "id": "4651980b-892b-4706-8d38-edcdddbfd04f",
   "metadata": {},
   "outputs": [],
   "source": [
    "vasp_spe_tot = rc2.spectrum.from_simulation(vasp_sim_fn, sim_type='vasp', use='I_tot')\n",
    "vasp_spe_par = rc2.spectrum.from_simulation(vasp_sim_fn, sim_type='vasp', use='I_par')\n",
    "vasp_spe_perp = rc2.spectrum.from_simulation(vasp_sim_fn, sim_type='vasp', use='I_perp')\n",
    "\n",
    "fig, ax = plt.subplots(1,2,figsize=(12,3))\n",
    "\n",
    "vasp_spe_tot.plot(ax=ax[0], label='vasp')\n",
    "vasp_spe_par.plot(ax=ax[0], label='crystal_dat')\n",
    "vasp_spe_perp.plot(ax=ax[0], label='crystal_out')\n",
    "\n",
    "\n",
    "vasp_spe_tot.resample_spline_filter(x_range=(0, 3500), xnew_bins=800,spline='makima').plot(ax=ax[1], label='I_tot')\n",
    "vasp_spe_par.resample_spline_filter(x_range=(0, 3500), xnew_bins=800,spline='makima').plot(ax=ax[1], label='I_par')\n",
    "vasp_spe_perp.resample_spline_filter(x_range=(0, 3500), xnew_bins=800,spline='makima').plot(ax=ax[1], label='I_perp')"
   ]
  }
 ],
 "metadata": {
  "kernelspec": {
   "display_name": "ramanchada2",
   "language": "python",
   "name": "python3"
  },
  "language_info": {
   "codemirror_mode": {
    "name": "ipython",
    "version": 3
   },
   "file_extension": ".py",
   "mimetype": "text/x-python",
   "name": "python",
   "nbconvert_exporter": "python",
   "pygments_lexer": "ipython3",
   "version": "3.11.9"
  }
 },
 "nbformat": 4,
 "nbformat_minor": 5
}
