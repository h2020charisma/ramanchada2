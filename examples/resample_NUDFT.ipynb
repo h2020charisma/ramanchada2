{
 "cells": [
  {
   "cell_type": "code",
   "execution_count": null,
   "id": "cd562e77-bd1b-45f6-9912-a8a3e2524458",
   "metadata": {},
   "outputs": [],
   "source": [
    "import ramanchada2 as rc2\n",
    "import numpy as np\n",
    "from scipy import signal, fft\n",
    "import matplotlib.pyplot as plt\n",
    "from nfft import nfft\n",
    "from scipy.interpolate import CubicSpline\n",
    "\n",
    "x = np.arange(1, 10)\n",
    "x = np.sort(np.append(x,  x+x/10))\n",
    "y = signal.windows.gaussian(len(x), std=1)\n",
    "spe0 = rc2.spectrum.Spectrum(x=x, y=y)\n",
    "spe1 = spe0.resample_NUDFT_filter(x_range=(1, 11), xnew_bins=11, window='blackmanharris')\n",
    "\n",
    "fig, ax = plt.subplots()\n",
    "spe0.plot(ax=ax, fmt='.:')\n",
    "spe1.plot(ax=ax, fmt='.:')\n",
    "units = 'cm^{-1}'\n",
    "\n",
    "ax.set_xlabel(rf'Raman shift $\\mathrm{{[{units}]}}$')"
   ]
  },
  {
   "cell_type": "code",
   "execution_count": null,
   "id": "6f2826fd-5bcb-4e19-9cf3-0be0fdc16eff",
   "metadata": {},
   "outputs": [],
   "source": [
    "fn = rc2.auxiliary.spectra.datasets2.prepend_prefix(['FMNT-M_BW532/PST10_iR532_Probe_100_3000msx7.txt'])[0]\n",
    "\n",
    "spe0 = rc2.spectrum.from_local_file(fn).subtract_moving_minimum(10).normalize()\n",
    "spe1 = spe0.resample_NUDFT_filter(x_range=(300, 3500), xnew_bins=1000, window='blackmanharris')\n",
    "\n",
    "x0 = spe0.x\n",
    "y0 = spe0.y\n",
    "y0 = y0[(x0>=300) & (x0<3500)]\n",
    "x0 = x0[(x0>=300) & (x0<3500)]\n",
    "\n",
    "x1 = spe1.x\n",
    "y1 = spe1.y\n",
    "\n",
    "cs0 = CubicSpline(x0, np.cumsum(y0))\n",
    "cs1 = CubicSpline(x1, np.cumsum(y1))\n",
    "\n",
    "assert np.allclose(cs0(x0[40:]), cs1(x0[40:]), rtol=7e-2)\n"
   ]
  },
  {
   "cell_type": "code",
   "execution_count": null,
   "id": "e09c5016-e984-426c-b161-ecef4c6a02ef",
   "metadata": {},
   "outputs": [],
   "source": [
    "fig, ax = plt.subplots()\n",
    "\n",
    "spe0.plot(ax=ax)\n",
    "spe1.plot(ax=ax)\n"
   ]
  },
  {
   "cell_type": "code",
   "execution_count": null,
   "id": "1b5a6bcd-0985-4877-a4d6-5fabb652d65e",
   "metadata": {},
   "outputs": [],
   "source": [
    "spe0 = rc2.spectrum.from_delta_lines(deltas={100:100, 200:200, 300:300}, xcal=lambda x:x, nbins=400)\n",
    "spe1 = spe0.resample_NUDFT_filter(x_range=(0, 400), xnew_bins=400, window=lambda x: [1]*x)\n",
    "spe2 = spe0.resample_NUDFT_filter(x_range=(50, 400), xnew_bins=350, window=lambda x: [1]*x)\n",
    "assert np.allclose(spe0.y, spe1.y)\n",
    "assert np.allclose(spe0.y[(spe0.x >=50) & (spe0.x < 400)], spe2.y)\n"
   ]
  },
  {
   "cell_type": "code",
   "execution_count": null,
   "id": "fa61aee8-06e9-4a7e-be98-269a18d0c84a",
   "metadata": {},
   "outputs": [],
   "source": [
    "plt.plot(spe0.y)\n",
    "plt.plot(spe1.y, ':')"
   ]
  }
 ],
 "metadata": {
  "kernelspec": {
   "display_name": "ramanchada2",
   "language": "python",
   "name": "ramanchada2"
  },
  "language_info": {
   "codemirror_mode": {
    "name": "ipython",
    "version": 3
   },
   "file_extension": ".py",
   "mimetype": "text/x-python",
   "name": "python",
   "nbconvert_exporter": "python",
   "pygments_lexer": "ipython3",
   "version": "3.12.4"
  }
 },
 "nbformat": 4,
 "nbformat_minor": 5
}
