{
 "cells": [
  {
   "cell_type": "markdown",
   "metadata": {},
   "source": [
    "# Example how to access remote HDF5 files \n",
    "-- at https://hsds-kc.ideaconsult.net\n",
    "\n",
    "```shell\n",
    "# create .hscfg file with the following lines in your home folder\n",
    "# for Windows it should be in C:\\Users\\{windows-username}\\.hscfg\n",
    "# Set hs_username and hs_password to your CHARISMA database credentials\n",
    "hs_endpoint = https://hsds-kc.ideaconsult.net\n",
    "hs_username = your-username\n",
    "hs_password = your-password\n",
    "hs_keycloak_uri = https://iam.ideaconsult.net\n",
    "hs_keycloak_client_id = solr-kc\n",
    "hs_keycloak_realm = idea-test\n",
    "```"
   ]
  },
  {
   "cell_type": "code",
   "execution_count": null,
   "metadata": {},
   "outputs": [],
   "source": [
    "#this cell is only to check if the .hscfg was set correctly ; uncomment print to do so\n",
    "import h5pyd._apps.hsinfo as hsinfo\n",
    "#print(hsinfo.cfg)"
   ]
  },
  {
   "cell_type": "markdown",
   "metadata": {},
   "source": [
    "## Example with h5pyd"
   ]
  },
  {
   "cell_type": "code",
   "execution_count": null,
   "metadata": {},
   "outputs": [],
   "source": [
    "import h5pyd\n",
    "import matplotlib.pyplot as plt\n",
    "\n",
    "# This is a path to a remote h5 file, not a local path\n",
    "path = \"/Round_Robin_1/FMNT-Madrid/BWTek iRaman/532/NeonSNQ043_iR532_Probe_stitched.cha\"\n",
    "# example how to read the remote HDF5 files (without ramanchada1 or ramanchada2 dependencies)\n",
    "with h5pyd.File(path) as f:\n",
    "    for key in f.keys():\n",
    "        print(key, f[key])\n",
    "        for a in f[key].attrs:\n",
    "            print(key,\"attribute\",a,f[key].attrs[a])        \n",
    "        if isinstance(f[key], h5pyd.Dataset):\n",
    "            dset = f[key]\n",
    "            print(\"Dataset\",key,dset,dset.shape,dset.size,dset.ndim,dset.dtype)\n",
    "            print(dset[...])\n",
    "            print(\"x\",dset[0])\n",
    "            print(\"y\",dset[1])\n",
    "            plt.plot(dset[0],dset[1])\n",
    "            plt.xlabel(dset.dims[0].label)\n",
    "            plt.ylabel(dset.dims[1].label)\n",
    "            sample = f[\"annotation_sample\"].attrs[\"sample\"]\n",
    "            instrument = f[\"annotation_study\"].attrs[\"instrument\"]\n",
    "            wavelength = f[\"annotation_study\"].attrs[\"wavelength\"]\n",
    "            partner = f[\"annotation_study\"].attrs[\"provider\"]\n",
    "            investigation = f[\"annotation_study\"].attrs[\"investigation\"]\n",
    "            plt.suptitle(\"{} ({},{}nm) by {} [{}]\".format(sample, instrument, wavelength, partner, investigation))\n",
    "\n",
    "\n"
   ]
  },
  {
   "cell_type": "markdown",
   "metadata": {},
   "source": [
    "## Example with ramanchada1"
   ]
  },
  {
   "cell_type": "code",
   "execution_count": null,
   "metadata": {},
   "outputs": [],
   "source": [
    "from ramanchada.classes import RamanChada\n",
    "# reads the raw dataset\n",
    "R = RamanChada(path,raw=True,is_h5pyd=True)\n",
    "R.plot()"
   ]
  },
  {
   "cell_type": "code",
   "execution_count": null,
   "metadata": {},
   "outputs": [],
   "source": [
    "#raw=False reads the latest processed dataset , i.e. baseline_removed in this case\n",
    "R = RamanChada(path,raw=False,is_h5pyd=True)\n",
    "R.plot()"
   ]
  },
  {
   "cell_type": "markdown",
   "metadata": {},
   "source": [
    "## Example with ramanchda2"
   ]
  },
  {
   "cell_type": "code",
   "execution_count": null,
   "metadata": {},
   "outputs": [],
   "source": [
    "from ramanchada2.io import HSDS\n",
    "\n",
    "x, y, meta = HSDS.read_cha(path,dataset='/raw',h5module=h5pyd)\n",
    "#this is metadata from the native file, not the curated metadata from annotation_x groups as above\n",
    "print(meta)\n",
    "plt.plot(x,y)"
   ]
  },
  {
   "cell_type": "code",
   "execution_count": null,
   "metadata": {},
   "outputs": [],
   "source": [
    "from ramanchada2.io import HSDS\n",
    "\n",
    "x, y, meta = HSDS.read_cha(path,dataset='/raw',h5module=h5pyd)\n",
    "#this is metadata from the native file, not the curated metadata from annotation_x groups as above\n",
    "print(meta)\n",
    "plt.plot(x,y)"
   ]
  },
  {
   "cell_type": "code",
   "execution_count": null,
   "metadata": {},
   "outputs": [],
   "source": [
    "# example creating Spectrum class , reading raw dataset from a remote HDF5 file created by ramanchada2\n",
    "from ramanchada2.spectrum.creators.from_chada import from_chada\n",
    "\n",
    "spe = from_chada(path,dataset=\"/raw\",h5module=h5pyd)\n",
    "spe.plot()\n",
    "\n"
   ]
  },
  {
   "cell_type": "markdown",
   "metadata": {},
   "source": [
    "### Processing example"
   ]
  },
  {
   "cell_type": "code",
   "execution_count": null,
   "metadata": {},
   "outputs": [],
   "source": [
    "ss0 = spe - spe.moving_minimum(80)\n",
    "ss1 = spe - spe.moving_minimum(15)\n",
    "fig, ax = plt.subplots(1, 2, figsize=(15, 5), tight_layout=True)\n",
    "spe.plot(ax=ax[0], label='original')\n",
    "ss0.plot(ax=ax[0], label='movmin(80)')\n",
    "ss1.plot(ax=ax[0], label='movmin(15)')\n",
    "\n",
    "#spe.plot(ax=ax[1], label='original')\n",
    "ss0.plot(ax=ax[1], label='movmin(80)')\n",
    "ss1.plot(ax=ax[1], label='movmin(15)')\n",
    "ax[1].set_ylim(0, 8000)"
   ]
  },
  {
   "cell_type": "code",
   "execution_count": null,
   "metadata": {},
   "outputs": [],
   "source": [
    "### normalize"
   ]
  },
  {
   "cell_type": "code",
   "execution_count": null,
   "metadata": {},
   "outputs": [],
   "source": [
    "spe = spe.normalize()\n",
    "spe.plot()"
   ]
  },
  {
   "cell_type": "markdown",
   "metadata": {},
   "source": [
    "## Read processed dataset example"
   ]
  },
  {
   "cell_type": "code",
   "execution_count": null,
   "metadata": {},
   "outputs": [],
   "source": [
    "# example creating Spectrum class , reading processed dataset from a remote HDF5 file created by ramanchada2\n",
    "#throws an error ?\n",
    "spe_processed = from_chada(path,dataset=\"/baseline_removed\",h5module=h5pyd)\n",
    "print(spe_processed)\n",
    "#spe.plot()"
   ]
  }
 ],
 "metadata": {
  "kernelspec": {
   "display_name": "ramanchada2",
   "language": "python",
   "name": "ramanchada2"
  },
  "language_info": {
   "codemirror_mode": {
    "name": "ipython",
    "version": 3
   },
   "file_extension": ".py",
   "mimetype": "text/x-python",
   "name": "python",
   "nbconvert_exporter": "python",
   "pygments_lexer": "ipython3",
   "version": "3.9.11"
  },
  "vscode": {
   "interpreter": {
    "hash": "0d4cab02df007f5b9013a8c5acacf5eae6024060aa984380d6367d40ac305718"
   }
  }
 },
 "nbformat": 4,
 "nbformat_minor": 4
}
