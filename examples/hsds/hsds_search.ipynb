{
 "cells": [
  {
   "cell_type": "code",
   "execution_count": null,
   "metadata": {},
   "outputs": [],
   "source": [
    "from ramanchada2.io.HSDS import visit_domain, filter_dataset, read_cha\n",
    "import h5pyd\n",
    "import numpy as np\n",
    "from scipy.interpolate import interp1d\n",
    "import matplotlib.pyplot as plt"
   ]
  },
  {
   "cell_type": "code",
   "execution_count": null,
   "metadata": {},
   "outputs": [],
   "source": [
    "from ramanchada2.spectrum import from_chada\n",
    "import math\n",
    "\n",
    "\n",
    "def load_dataset(parentdomain,domain,results={}):\n",
    "    with h5pyd.File(domain) as f:\n",
    "        wavelength = f[\"annotation_study\"].attrs[\"wavelength\"]\n",
    "        sample = f[\"annotation_sample\"].attrs[\"sample\"]\n",
    "    spe = from_chada(domain,h5module=h5pyd)\n",
    "    spe = spe - spe.moving_minimum(16)\n",
    "    spe = spe.normalize()\n",
    "    results[domain] = (spe.x,spe.y,wavelength,sample)\n",
    "\n",
    "query_sample = \"PST\"\n",
    "\n",
    "#visit_domain(topdomain=\"/Round_Robin_1/\",process_dataset=print_dataset) \n",
    "results = {}\n",
    "visit_domain(\"/Round_Robin_1/\",\n",
    "        process_dataset=filter_dataset,kwargs={\"process_file\" : load_dataset,\"sample\": query_sample, \n",
    "                            \"kwargs\" : {\"results\" : results}})"
   ]
  },
  {
   "cell_type": "code",
   "execution_count": null,
   "metadata": {},
   "outputs": [],
   "source": [
    "def ramanshift2wavelength(shift,laser):\n",
    "    return 1/((1/laser)-shift/10**7)\n",
    "def wavelength2ramanshift(wavelength,laser):\n",
    "    return 10**7/laser-10**7/wavelength   \n",
    "\n",
    "domain_len = 1024+2048\n",
    "print(domain_len)\n",
    "xnew0 = np.arange(0,domain_len,1)\n",
    "for lex in (532,633,785):\n",
    "    xw = ramanshift2wavelength(xnew0,lex)\n",
    "    #print(xw,min(xw),max(xw),len(xw))\n",
    "\n",
    "for laser in (532,633,785):\n",
    "    max_vw = ramanshift2wavelength(4000,laser)\n",
    "    xw =  np.arange(laser,math.ceil(max_vw),(max_vw-laser)/domain_len)\n",
    "    print(\"nm\",laser,max_vw,len(xw),(max_vw-laser)/domain_len)\n",
    "    x = wavelength2ramanshift(xw,laser)\n",
    "    ax = plt.plot(xw,x,marker='o',label=laser)\n",
    "    plt.ylabel('Raman shift, cm-1')\n",
    "    plt.xlabel('wavelength, nm')\n",
    "plt.legend()\n",
    "plt.show()"
   ]
  },
  {
   "cell_type": "code",
   "execution_count": null,
   "metadata": {},
   "outputs": [],
   "source": [
    "from matplotlib.pyplot import figure\n",
    "\n",
    "plt.figure(figsize=(1,1))\n",
    "\n",
    "\n",
    "def spectrum_interpolate(x,y, newx):\n",
    "    f = interp1d(x, y)\n",
    "    xmin = np.where(newx>=min(x))\n",
    "    xmax = np.where(newx<=max(x))    \n",
    "    #returns a tuple , if empty, then max(spe.x) is beyond the new x\n",
    "    xmax = xmax[0][len(xmax[0])-1] if len(xmax[0]>0) else len(newx)\n",
    "    xmin = xmin[0][0] if len(xmin[0]>0) else 0\n",
    "    newy = np.zeros(len(newx))\n",
    "    newy[xmin:(xmax+1)] = f(newx[xmin:(xmax+1)])        \n",
    "    return newy\n",
    "\n",
    "domain_len=2048\n",
    "offset = 100\n",
    "\n",
    "\n",
    "ff, (ax2) = plt.subplots(1, 1, sharey=True)\n",
    "#just for fun if we want more than one vector\n",
    "_x0=np.linspace(offset,2000,domain_len)\n",
    "_x1=np.linspace(2000,4000,domain_len)\n",
    "for domain in results:\n",
    "    x,y,wavelength,sample = results[domain]\n",
    "    f = interp1d(x, y)\n",
    "    wavelength = int(wavelength)\n",
    "    _y0 = spectrum_interpolate(x,y,_x0)\n",
    "    _y1 = spectrum_interpolate(x,y,_x1)\n",
    "    plt.plot(x,y, 'x')\n",
    "    plt.plot(_x0,_y0, '-')\n",
    "    plt.plot(_x1,_y1, 'x')\n",
    "    plt.suptitle(domain)\n",
    "    plt.show()"
   ]
  }
 ],
 "metadata": {
  "kernelspec": {
   "display_name": "ramanchada2",
   "language": "python",
   "name": "ramanchada2"
  },
  "language_info": {
   "codemirror_mode": {
    "name": "ipython",
    "version": 3
   },
   "file_extension": ".py",
   "mimetype": "text/x-python",
   "name": "python",
   "nbconvert_exporter": "python",
   "pygments_lexer": "ipython3",
   "version": "3.9.11"
  },
  "vscode": {
   "interpreter": {
    "hash": "fb04d3982f35e0acdef77e55e8b663fd61d1c7b237bd8280d18cbffb390c1e7d"
   }
  }
 },
 "nbformat": 4,
 "nbformat_minor": 4
}
