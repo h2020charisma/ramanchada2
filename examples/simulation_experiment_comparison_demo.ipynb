{
 "cells": [
  {
   "cell_type": "markdown",
   "id": "74a0c04b-4151-41a7-9852-83db0be26774",
   "metadata": {
    "tags": []
   },
   "source": [
    "# Compare simulated and experimental spectra"
   ]
  },
  {
   "cell_type": "code",
   "execution_count": null,
   "id": "5a07a056-112a-49a1-87d4-77a42605a1ac",
   "metadata": {
    "tags": []
   },
   "outputs": [],
   "source": [
    "import matplotlib.pyplot as plt\n",
    "import ramanchada2 as rc2\n",
    "from ramanchada2.auxiliary.spectra.datasets2 import get_filenames, prepend_prefix"
   ]
  },
  {
   "cell_type": "code",
   "execution_count": null,
   "id": "a8ebe4ef-70b2-4471-a280-f2d78faf7313",
   "metadata": {},
   "outputs": [],
   "source": [
    "exp_spe_fn = prepend_prefix(get_filenames(provider=['ICV'], laser_wl=['785'], sample=['nCAL'], OP=['050']))[0]"
   ]
  },
  {
   "cell_type": "code",
   "execution_count": null,
   "id": "b7c303ae-52cb-4b75-82d2-649d9687c2d0",
   "metadata": {},
   "outputs": [],
   "source": [
    "vasp_sim_fn = rc2.auxiliary.spectra.simulated.FILES['calcite_vasp']\n",
    "crystal_sim_raw_fn = rc2.auxiliary.spectra.simulated.FILES['calcite_crystal_raw']\n",
    "crystal_sim_convolved_fn = rc2.auxiliary.spectra.simulated.FILES['calcite_crystal_convolved']"
   ]
  },
  {
   "cell_type": "markdown",
   "id": "89c898c1-7b3a-47cb-b849-2ee1906985cc",
   "metadata": {
    "tags": []
   },
   "source": [
    "## read VASP simulation files for calcite and compare with experimental"
   ]
  },
  {
   "cell_type": "code",
   "execution_count": null,
   "id": "6528f3be-099a-4082-a7d0-60536765d2d9",
   "metadata": {},
   "outputs": [],
   "source": [
    "fig, ax = plt.subplots(nrows=5, sharex=True, figsize=(8, 8))\n",
    "\n",
    "rc2.spectrum.from_local_file(exp_spe_fn).normalize().plot(ax=ax[0], label=\"Experimental nCAL; 785 nm\")\n",
    "rc2.spectrum.from_simulation(vasp_sim_fn, 'vasp', 'I_perp').plot(ax=ax[2], label=r'Simulated VASP $I_{perp}$')\n",
    "rc2.spectrum.from_simulation(vasp_sim_fn, 'vasp', 'I_tot').plot(ax=ax[1], label=r'Simulated VASP $I_{tot}$')\n",
    "rc2.spectrum.from_simulation(vasp_sim_fn, 'vasp', 'I_par').plot(ax=ax[3], label=r'Simulated VASP $I_{par}$')\n",
    "rc2.spectrum.from_simulation(vasp_sim_fn, 'vasp', {'I_par':.1, 'I_perp':.9}).plot(ax=ax[4], label=r'Simulated VASP $0.1*I_{par} + 0.9*I_{perp}$')\n",
    "for a in ax:\n",
    "    a.legend(loc='upper right')\n",
    "    a.grid()\n",
    "ax[4].set_xlabel(r'Raman shift [$\\mathrm{cm}^{-1}$]')\n",
    "fig.suptitle('Calcite -- experimental vs VASP simulated')\n",
    "fig.tight_layout()\n",
    "\n"
   ]
  },
  {
   "cell_type": "markdown",
   "id": "9a1e3554-073e-46ef-99bb-4fdea97f30e4",
   "metadata": {},
   "source": [
    "## Compare crystal convolved and ramanchada2 convolved spectra"
   ]
  },
  {
   "cell_type": "code",
   "execution_count": null,
   "id": "cae789fe-29fd-467e-b066-85dc2f04b0a7",
   "metadata": {},
   "outputs": [],
   "source": [
    "fig, ax = plt.subplots()\n",
    "\n",
    "\n",
    "spe_convolved = rc2.spectrum.from_simulation(crystal_sim_convolved_fn, 'crystal_dat', 'I_perp')\n",
    "spe_raw = rc2.spectrum.from_simulation(crystal_sim_raw_fn, 'crystal_dat', 'I_perp')\n",
    "\n",
    "spe_raw.normalize().plot(ax=ax, label='crystal deltas')\n",
    "spe_convolved.normalize().plot(ax=ax, label='crystal convolved')\n",
    "spe_raw.convolve('moffat', sigma=5).normalize().plot(ax=ax, fmt=':', label='RC2 convolved')\n",
    "\n",
    "ax.set_xlabel(r'Raman shift [$\\mathrm{cm}^{-1}$]')\n",
    "ax.set_title('Calcite -- crystal simulations')\n",
    "fig.tight_layout()"
   ]
  }
 ],
 "metadata": {
  "kernelspec": {
   "display_name": "ramanchada2",
   "language": "python",
   "name": "ramanchada2"
  },
  "language_info": {
   "codemirror_mode": {
    "name": "ipython",
    "version": 3
   },
   "file_extension": ".py",
   "mimetype": "text/x-python",
   "name": "python",
   "nbconvert_exporter": "python",
   "pygments_lexer": "ipython3",
   "version": "3.12.6"
  }
 },
 "nbformat": 4,
 "nbformat_minor": 5
}
