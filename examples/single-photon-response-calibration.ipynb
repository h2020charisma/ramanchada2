{
 "cells": [
  {
   "cell_type": "markdown",
   "id": "8d0ce098-a120-40eb-a342-eb0f2ef1c8b9",
   "metadata": {},
   "source": [
    "# Estimate y errors of spectra in arbitrary units"
   ]
  },
  {
   "cell_type": "markdown",
   "id": "70757cd7-2e33-47f5-8112-01bc01bf1e37",
   "metadata": {},
   "source": [
    "The spectra in Raman spectroscopy are obtained by CCD arrays. Each CCD pixel collects charge due to Raman-shifted photons irradiating the surface of the CCD array. The photon counting statistics leads to poissonian errors in detected photons, so in the collected charge. In counting statistics it is well known that\n",
    "$$\n",
    "\\sigma_N=\\sqrt{N}.\n",
    "$$\n",
    "But as we do not know the charge in ADC units that is caused by a single photon, the attribution of ucertainties of spectrum bins is not as trivial.\n",
    "\n",
    "The idea is to enforce the knowleage for the origin of the noise in the spectra in order to convert the units on y axis to counts. This will make the previous equation applicable.\n",
    "\n",
    "The proposed algorithm makes several assumptions:\n",
    "- the values in successive bins are i.i.d.\n",
    "- the noise is only due to counting statistics\n",
    "- dark current is not taken into account"
   ]
  },
  {
   "cell_type": "markdown",
   "id": "c3d4a56c-daad-4724-9b8f-a759f9875d68",
   "metadata": {
    "tags": []
   },
   "source": [
    "## Sepctrum generation"
   ]
  },
  {
   "cell_type": "code",
   "execution_count": null,
   "id": "d81af4e9-992b-41d5-aa68-c3a757cd878c",
   "metadata": {},
   "outputs": [],
   "source": [
    "from ramanchada import Spectrum\n",
    "from ramanchada import GaussPeak, SpectralComponentCollection\n",
    "import scipy.stats\n",
    "import scipy.optimize\n",
    "import numpy as np\n",
    "import matplotlib.pyplot as plt"
   ]
  },
  {
   "cell_type": "code",
   "execution_count": null,
   "id": "d13c24ef-0f7a-41b7-ab87-dccc7988dbdf",
   "metadata": {},
   "outputs": [],
   "source": [
    "spe_coll = SpectralComponentCollection([\n",
    "    GaussPeak(a=50000, x0=250, w=6),\n",
    "    GaussPeak(a=7000, x0=300, w=6),\n",
    "    GaussPeak(a=7000, x0=500, w=6),\n",
    "    GaussPeak(a=30000, x0=1000, w=10),\n",
    "    GaussPeak(a=300000, x0=1050, w=40),\n",
    "    GaussPeak(a=8000000, x0=3000, w=1500),\n",
    "    GaussPeak(a=5000000, x0=1000, w=1100),\n",
    "    GaussPeak(a=8000000, x0=-2000, w=1500),\n",
    "])\n",
    "fig, ax = plt.subplots(1, figsize=(7, 4))\n",
    "spe_coll.plot(ax=ax, draw='individual lines', label='individual lines')\n",
    "spe_coll.plot(ax=ax, draw='combined line', label='combined line')\n",
    "ax.set_xlim(0, 2000)\n",
    "ax.set_title('Spectral components')\n",
    "ax.set_xlabel('$\\mathrm{Raman shift [cm^{-1}]}$')\n",
    "_ = ax.set_ylabel('$\\mathrm{Intensity [count]}$')"
   ]
  },
  {
   "cell_type": "code",
   "execution_count": null,
   "id": "d6d520c7-416e-4be7-83e2-5aea7f51440a",
   "metadata": {},
   "outputs": [],
   "source": [
    "spe_clear = Spectrum.generate(x=2000, spe_components=spe_coll)\n",
    "spe_noise = spe_clear.add_poisson_noise()\n",
    "fig, ax = plt.subplots(1, figsize=(7, 4))\n",
    "spe_noise.plot(ax=ax, label='noised spectrum')\n",
    "spe_clear.plot(ax=ax, label='clear spectrum')\n",
    "ax.set_xlim(0, 2000)\n",
    "ax.set_title('Noised spectrum')\n",
    "ax.set_xlabel('Raman shift $\\mathrm{[cm^{-1}]}$')\n",
    "_ = ax.set_ylabel('Intensity [count]')"
   ]
  },
  {
   "cell_type": "code",
   "execution_count": null,
   "id": "8f8d512a-17da-4a6e-bd91-4023714ee14c",
   "metadata": {},
   "outputs": [],
   "source": [
    "spe_au = spe_noise.scale_yaxis_linear(factor=1/6000)\n",
    "fig, ax = plt.subplots(1, figsize=(7, 4))\n",
    "spe_au.plot(ax=ax)\n",
    "ax.set_title('A.U. Spectrum')\n",
    "ax.set_xlabel('Raman shift $\\mathrm{[cm^{-1}]}$')\n",
    "_ = ax.set_ylabel('Intensity [a.u.]')"
   ]
  },
  {
   "cell_type": "markdown",
   "id": "686f7cfc-bb80-490a-96e8-dc3afd7216d9",
   "metadata": {
    "tags": []
   },
   "source": [
    "## Exclude peak areas"
   ]
  },
  {
   "cell_type": "markdown",
   "id": "91feab63-5a66-4624-a381-b6542a238a09",
   "metadata": {
    "tags": []
   },
   "source": [
    "Near peak regions assumption for i.i.d. is not relevant, so peak regions need to be excluded from calculations. A way to do so is to check for asymetry of distributions in a moving rectangular window.\n",
    "$$\n",
    "\\left|\\frac{\\mathrm{mean}(dat)-\\mathrm{median}(dat)}{\\mathrm{mean}(dat)}\\right|\n",
    "$$"
   ]
  },
  {
   "cell_type": "code",
   "execution_count": null,
   "id": "cb940844-e185-412d-9e38-fc86237b085d",
   "metadata": {},
   "outputs": [],
   "source": [
    "def peak_filter_moving_window(dat, window_size, threshold=1e-2):\n",
    "    asym = list()\n",
    "    for i in range(window_size//2, len(dat)-window_size//2):\n",
    "        sub_arr = dat[int(i-window_size//2):int(i+window_size//2)]\n",
    "        asym.append((np.mean(sub_arr) - np.median(sub_arr))/np.mean(sub_arr))\n",
    "    asym = np.abs(np.array(asym))\n",
    "    is_peak = np.empty_like(dat, dtype=bool)\n",
    "    for i in range(len(dat)):\n",
    "        if (asym[i-window_size:i] > threshold).any():\n",
    "            is_peak[i] = True\n",
    "        else:\n",
    "            is_peak[i] = False\n",
    "    return is_peak, asym\n"
   ]
  },
  {
   "cell_type": "code",
   "execution_count": null,
   "id": "debedb65-3781-41c8-a42b-7f6aef173562",
   "metadata": {},
   "outputs": [],
   "source": [
    "sss = spe_au\n",
    "is_peak, asym = peak_filter_moving_window(sss.y, 50)"
   ]
  },
  {
   "cell_type": "code",
   "execution_count": null,
   "id": "96be0c3a-b056-4e88-b537-934c6208ee35",
   "metadata": {},
   "outputs": [],
   "source": [
    "fig, ax = plt.subplots(1, 2, figsize=(12, 4))\n",
    "\n",
    "sss.plot(ax=ax[0], label='spe_au')\n",
    "ax01 = ax[0].twinx()\n",
    "ax01.plot(asym, 'r', label='is_peak')\n",
    "ax01.set_yscale('log')\n",
    "ax01.axhline(1e-2)\n",
    "\n",
    "sss.plot(ax=ax[1], label='spe_au')\n",
    "ax11 = ax[1].twinx()\n",
    "ax11.plot(is_peak, 'r', label='is_peak')\n",
    "ax11.legend(loc='center right')\n",
    "_ = fig.suptitle('Locate peaks')"
   ]
  },
  {
   "cell_type": "markdown",
   "id": "f1dd33d0-f5d9-4c07-b4fa-209d70cd87d5",
   "metadata": {},
   "source": [
    "## Coefficient of proportionality (scaling factor)"
   ]
  },
  {
   "cell_type": "markdown",
   "id": "8d28fce5-35e5-4841-ac82-a6f20bc38a1a",
   "metadata": {},
   "source": [
    "Assuming that successive bins in spectrum are i.i.d. gaussian, their differences will follow a gaussian distribution, wider with factor $\\sqrt{2}$. Taking absolute value of the gassian will lead to additional broadingng by factor of $\\sqrt{2}$. Widths of difference spectrum should be similar for similar amplitudes."
   ]
  },
  {
   "cell_type": "code",
   "execution_count": null,
   "id": "4affca17-74af-4fed-8a06-a40e674c00b1",
   "metadata": {},
   "outputs": [],
   "source": [
    "noise_only = np.array(spe_au.y[~is_peak], dtype=float)\n",
    "diff_noise_only = np.abs(np.diff(noise_only))\n",
    "noise_only_mean = (noise_only[1:] + noise_only[:-1])/2\n",
    "x, y = diff_noise_only, np.sqrt(noise_only_mean)\n",
    "slope = 2*np.sum(x*y)/np.sum(x*x)"
   ]
  },
  {
   "cell_type": "code",
   "execution_count": null,
   "id": "09d2f8ca-dfe9-4750-948d-2143281a01c2",
   "metadata": {},
   "outputs": [],
   "source": [
    "def merit(par, *args):\n",
    "    a = par[0]\n",
    "    x = args[0]\n",
    "    y = args[1]\n",
    "    return np.abs(2*sum(a*x > y) - len(x))\n",
    "res = scipy.optimize.basinhopping(merit, [slope], stepsize=slope, minimizer_kwargs=dict(args=(x, y)))"
   ]
  },
  {
   "cell_type": "code",
   "execution_count": null,
   "id": "cd33b48f-44c0-43ff-9c90-a6db06dba8e6",
   "metadata": {},
   "outputs": [],
   "source": [
    "def meritX(par, *args):\n",
    "    a = par[0]\n",
    "    x = args[0]\n",
    "    y = args[1]\n",
    "    return np.abs(4*.53*sum(a*x > y) - len(x))\n",
    "res53 = scipy.optimize.basinhopping(meritX, [slope], stepsize=slope, minimizer_kwargs=dict(args=(x, y)))"
   ]
  },
  {
   "cell_type": "code",
   "execution_count": null,
   "id": "36f017c0-4a7b-4913-9664-94e61d098d6f",
   "metadata": {},
   "outputs": [],
   "source": [
    "fig, ax = plt.subplots(1, 2, figsize=(12, 4))\n",
    "ax[0].plot(x, y, '.', label='data')\n",
    "ax[0].plot(x, x*slope, linestyle='-.', label='$\\chi^2$ slope')\n",
    "ax[0].plot(x, x*res.x, linestyle='--', label='bisect fit')\n",
    "ax[0].plot(x, x*res53.x, linestyle='--', label='bisect53 fit')\n",
    "ax[0].set_ylim(min(y)*.9, max(y)*1.1)\n",
    "ax[0].set_xlabel(r'Successive bin difference $\\propto \\sigma_{Poisson}~\\left[\\,\\sqrt{counts}\\,\\right]$')\n",
    "ax[0].set_ylabel(r'$\\sqrt{Intensity}~\\left[\\,\\sqrt{counts}\\,\\right]$')\n",
    "ax[0].legend()\n",
    "\n",
    "cc = np.linspace(0, slope*10, 300)\n",
    "mm = [merit([i], x, y) for i in cc]\n",
    "ax[1].plot(cc, mm)\n",
    "ax[1].axvline(slope, linestyle='-.', label='$\\chi^2$ slope', color='orange')\n",
    "ax[1].axvline(res.x, linestyle='--', label='bisect fit', color='green')\n",
    "ax[1].axvline(res53.x, linestyle='--', label='bisect53 fit', color='red')\n",
    "ax[1].set_xlim(0, 200)\n",
    "\n",
    "ax[1].set_xlabel('Slope of the line')\n",
    "ax[1].set_ylabel('Penalty')\n",
    "ax[1].set_title('Merit function space')\n",
    "_ = ax[1].legend()"
   ]
  },
  {
   "cell_type": "code",
   "execution_count": null,
   "id": "91f85fe0-873b-4913-8a4a-3ae3f1339bd5",
   "metadata": {},
   "outputs": [],
   "source": [
    "fig, ax = plt.subplots(1, 2, figsize=(12, 4))\n",
    "spe_au.plot(ax=ax[0])\n",
    "ax[0].set_title('A.U. to be reconstructed')\n",
    "ax[0].set_xlabel('Raman shift $\\mathrm{[cm^{-1}]}$')\n",
    "ax[0].set_ylabel('Intensity [A.U.]')\n",
    "\n",
    "spe_noise.plot(ax=ax[1], label='spe noise')\n",
    "spe_au.scale_yaxis_linear(factor=(slope)**2).plot(ax=ax[1], fmt=':', label='$\\chi^2$ slope')\n",
    "spe_au.scale_yaxis_linear(factor=(res.x)**2).plot(ax=ax[1], fmt=':', label='bisect of data')\n",
    "spe_au.scale_yaxis_linear(factor=(res53.x)**2).plot(ax=ax[1], fmt=':', label='bisect of data 53')\n",
    "ax[1].set_xlabel('Raman shift $\\mathrm{[cm^{-1}]}$')\n",
    "ax[1].set_ylabel('Intensity [counts]')\n",
    "_ = ax[1].set_title('Noise based intensity reconstruction')"
   ]
  }
 ],
 "metadata": {
  "kernelspec": {
   "display_name": "ramanchada2",
   "language": "python",
   "name": "ramanchada2"
  },
  "language_info": {
   "codemirror_mode": {
    "name": "ipython",
    "version": 3
   },
   "file_extension": ".py",
   "mimetype": "text/x-python",
   "name": "python",
   "nbconvert_exporter": "python",
   "pygments_lexer": "ipython3",
   "version": "3.10.2"
  }
 },
 "nbformat": 4,
 "nbformat_minor": 5
}
