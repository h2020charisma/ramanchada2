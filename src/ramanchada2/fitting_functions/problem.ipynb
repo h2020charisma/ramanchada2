{
 "cells": [
  {
   "cell_type": "code",
   "execution_count": null,
   "id": "7b91f3b1-d08b-4d84-a241-819d11fa9301",
   "metadata": {
    "tags": []
   },
   "outputs": [],
   "source": [
    "import ramanchada2 as rc2\n",
    "from ramanchada2.fitting_functions import models_lmfit_like as rc2models_lm\n",
    "from ramanchada2.fitting_functions import models as rc2models\n",
    "from ramanchada2.io.simulated import read_simulated_lines\n",
    "from typing import Dict\n",
    "import numpy as np\n",
    "import pandas as pd\n",
    "import lmfit\n",
    "import matplotlib.pyplot as plt\n",
    "from scipy import fft, signal, optimize, sparse\n",
    "from scipy.sparse import diags\n",
    "def plt_fig_ax(nrows=1, ncols=1, figsize=(20,5), **kwargs):\n",
    "    return plt.subplots(nrows=nrows, ncols=ncols, figsize=figsize, **kwargs)\n",
    "from ramanchada2.auxiliary.spectra.datasets2 import get_filenames"
   ]
  },
  {
   "cell_type": "code",
   "execution_count": null,
   "id": "dc744b17-3cf9-4b39-8379-2aac75674e0c",
   "metadata": {
    "tags": []
   },
   "outputs": [],
   "source": [
    "x = np.linspace(0, 200, 1000, endpoint=False)\n",
    "mod = lmfit.models.Pearson4Model()\n",
    "\n",
    "par = mod.make_params()\n",
    "par['amplitude'].set(value=1000)\n",
    "par['center'].set(value=100)\n",
    "par['sigma'].set(value=5)\n",
    "par['skew'].set(value=10)\n",
    "par['expon'].set(value=4)\n",
    "arr = mod.eval(params=par, x=x)\n",
    "arr += np.random.uniform(-3,3, size=len(arr))\n",
    "plt.plot(x,arr)"
   ]
  },
  {
   "cell_type": "code",
   "execution_count": null,
   "id": "69ab3608-6277-44c5-acaa-ed1084373e02",
   "metadata": {
    "tags": []
   },
   "outputs": [],
   "source": [
    "a=rc2models_lm.Pearson4HPWModel()\n",
    "\n",
    "\n",
    "params = a.guess(arr, x=x)\n",
    "\n",
    "fit_res = a.fit(data=arr, x=x, params=params)\n",
    "plt.plot(x, arr)\n",
    "plt.plot(x, fit_res.eval())\n",
    "\n",
    "fit_res.params"
   ]
  },
  {
   "cell_type": "code",
   "execution_count": null,
   "id": "436ca200-f24d-4fde-87c1-f5e713e9b3b9",
   "metadata": {
    "tags": []
   },
   "outputs": [],
   "source": [
    "b = rc2models.PearsonIVParametrizationHPWModel()\n",
    "par = b.guess(arr, x=x)\n",
    "fitres = b.fit(arr, x=x, params=par)\n",
    "plt.plot(x, arr)\n",
    "plt.plot(x, fitres.eval(x=x))\n",
    "\n",
    "fitres.params"
   ]
  },
  {
   "cell_type": "code",
   "execution_count": null,
   "id": "1a7515a4-d0a8-4a5c-a834-0774fd202891",
   "metadata": {
    "tags": []
   },
   "outputs": [],
   "source": [
    "b = lmfit.models.Pearson4Model()\n",
    "par = b.guess(arr, x=x)\n",
    "fitres = b.fit(arr, x=x, params=par)\n",
    "plt.plot(x, arr)\n",
    "plt.plot(x, fitres.eval(x=x))\n",
    "\n",
    "fitres.params"
   ]
  },
  {
   "cell_type": "code",
   "execution_count": null,
   "id": "392c9f61-8413-49ae-a8fe-24ca8c8137e8",
   "metadata": {
    "tags": []
   },
   "outputs": [],
   "source": [
    "x = np.linspace(0, 200, 1000, endpoint=False)\n",
    "mod = lmfit.models.VoigtModel()\n",
    "\n",
    "par = mod.make_params()\n",
    "par['amplitude'].set(value=1000)\n",
    "par['center'].set(value=100)\n",
    "par['sigma'].set(value=3)\n",
    "par['gamma'].set(value=5, vary=True)\n",
    "arr = mod.eval(params=par, x=x)\n",
    "arr += np.random.uniform(-3,3, size=len(arr))\n",
    "plt.plot(x,arr)"
   ]
  },
  {
   "cell_type": "code",
   "execution_count": null,
   "id": "d85562f2-b98d-481e-8b6f-e8ab4aa9de53",
   "metadata": {
    "tags": []
   },
   "outputs": [],
   "source": [
    "a = rc2models_lm.VoigtNuModel()\n",
    "par = a.guess(arr, x=x)\n",
    "fitres = a.fit(arr, x=x, params=par)\n",
    "plt.plot(x, arr)\n",
    "plt.plot(x, fitres.eval(x=x))\n",
    "fitres.params"
   ]
  },
  {
   "cell_type": "code",
   "execution_count": null,
   "id": "17640903-7d74-4a9c-81be-97b31ccedc36",
   "metadata": {
    "tags": []
   },
   "outputs": [],
   "source": [
    "a = rc2models.VoigtAreaParametrizationNuModel()\n",
    "par = a.guess(arr, x=x)\n",
    "fitres = a.fit(arr, x=x, params=par)\n",
    "plt.plot(x, arr)\n",
    "plt.plot(x, fitres.eval(x=x))\n",
    "fitres.params"
   ]
  },
  {
   "cell_type": "code",
   "execution_count": null,
   "id": "fbfbbb88-8005-4f29-8fec-ad31c107e4a1",
   "metadata": {
    "tags": []
   },
   "outputs": [],
   "source": [
    "a = lmfit.models.VoigtModel()\n",
    "par = a.guess(arr, x=x)\n",
    "par['gamma'].set(value=par['sigma'].value, vary=True)\n",
    "fitres = a.fit(arr, x=x, params=par)\n",
    "plt.plot(x, arr)\n",
    "plt.plot(x, fitres.eval(x=x))\n",
    "fitres.params"
   ]
  }
 ],
 "metadata": {
  "kernelspec": {
   "display_name": "ramanchada2",
   "language": "python",
   "name": "ramanchada2"
  },
  "language_info": {
   "codemirror_mode": {
    "name": "ipython",
    "version": 3
   },
   "file_extension": ".py",
   "mimetype": "text/x-python",
   "name": "python",
   "nbconvert_exporter": "python",
   "pygments_lexer": "ipython3",
   "version": "3.9.11"
  }
 },
 "nbformat": 4,
 "nbformat_minor": 5
}
